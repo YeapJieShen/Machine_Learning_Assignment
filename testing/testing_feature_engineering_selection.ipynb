{
 "cells": [
  {
   "metadata": {},
   "cell_type": "markdown",
   "source": [
    "# Feature Engineering and Selection\n",
    "# Checking the Python Environment\n",
    "\n",
    "This is to ensure that the correct Python environment is set up correctly and used"
   ],
   "id": "b15dd9b0e4ba78ad"
  },
  {
   "cell_type": "code",
   "id": "initial_id",
   "metadata": {
    "collapsed": true,
    "ExecuteTime": {
     "end_time": "2024-08-22T14:47:40.881769Z",
     "start_time": "2024-08-22T14:47:40.867131Z"
    }
   },
   "source": [
    "import sys\n",
    "import IPython\n",
    "\n",
    "# Change path to append here\n",
    "sys.path.append(r'C:\\Users\\hp\\Downloads\\Machine Learning Assignment')\n",
    "\n",
    "print(\"Python executable:\", sys.executable)\n",
    "print(\"Python version:\", sys.version)\n",
    "print(\"Kernel:\", IPython.get_ipython().kernel)\n",
    "print(\"Sys paths:\", sys.path)"
   ],
   "outputs": [
    {
     "name": "stdout",
     "output_type": "stream",
     "text": [
      "Python executable: C:\\Users\\hp\\Downloads\\Machine Learning Assignment\\ml-venv\\Scripts\\python.exe\n",
      "Python version: 3.11.5 | packaged by Anaconda, Inc. | (main, Sep 11 2023, 13:26:23) [MSC v.1916 64 bit (AMD64)]\n",
      "Kernel: <ipykernel.ipkernel.IPythonKernel object at 0x000002D0331EF710>\n",
      "Sys paths: ['C:\\\\Users\\\\hp\\\\Downloads\\\\Machine Learning Assignment', 'C:\\\\Users\\\\hp\\\\anaconda3\\\\python311.zip', 'C:\\\\Users\\\\hp\\\\anaconda3\\\\DLLs', 'C:\\\\Users\\\\hp\\\\anaconda3\\\\Lib', 'C:\\\\Users\\\\hp\\\\anaconda3', 'C:\\\\Users\\\\hp\\\\Downloads\\\\Machine Learning Assignment\\\\ml-venv', '', 'C:\\\\Users\\\\hp\\\\Downloads\\\\Machine Learning Assignment\\\\ml-venv\\\\Lib\\\\site-packages', 'C:\\\\Users\\\\hp\\\\Downloads\\\\Machine Learning Assignment\\\\ml-venv\\\\Lib\\\\site-packages\\\\win32', 'C:\\\\Users\\\\hp\\\\Downloads\\\\Machine Learning Assignment\\\\ml-venv\\\\Lib\\\\site-packages\\\\win32\\\\lib', 'C:\\\\Users\\\\hp\\\\Downloads\\\\Machine Learning Assignment\\\\ml-venv\\\\Lib\\\\site-packages\\\\Pythonwin', 'C:\\\\Users\\\\hp\\\\Downloads\\\\Machine Learning Assignment']\n"
     ]
    }
   ],
   "execution_count": 1
  },
  {
   "metadata": {},
   "cell_type": "markdown",
   "source": [
    "# Importing Libraries\n",
    "\n",
    "This is to ensure that the necessary libraries are imported and used"
   ],
   "id": "215bed1fe597fdc9"
  },
  {
   "metadata": {
    "ExecuteTime": {
     "end_time": "2024-08-22T14:47:40.911526Z",
     "start_time": "2024-08-22T14:47:40.897987Z"
    }
   },
   "cell_type": "code",
   "source": [
    "# For DataFrame\n",
    "import pandas as pd\n",
    "import numpy as np\n",
    "\n",
    "# For plotting\n",
    "import matplotlib.pyplot as plt\n",
    "import seaborn as sns\n",
    "\n",
    "# For serialisation and de-serialisation\n",
    "import pickle"
   ],
   "id": "2905640950ad6a34",
   "outputs": [],
   "execution_count": 2
  },
  {
   "metadata": {},
   "cell_type": "markdown",
   "source": [
    "# Loading the Dataset\n",
    "\n",
    "Following shows the raw dataset that is loaded into the notebook"
   ],
   "id": "9b8e107f3da10eb9"
  },
  {
   "metadata": {
    "ExecuteTime": {
     "end_time": "2024-08-22T14:47:40.939279Z",
     "start_time": "2024-08-22T14:47:40.914061Z"
    }
   },
   "cell_type": "code",
   "source": "df = pd.read_csv(r'../raw_data/customer_standard_scaled.csv', index_col = 'CUST_ID')",
   "id": "994d8b6ad490ffa",
   "outputs": [],
   "execution_count": 3
  },
  {
   "metadata": {},
   "cell_type": "markdown",
   "source": "# Feature Engineering and Selection",
   "id": "8ff0cc095b1f0a2a"
  },
  {
   "metadata": {
    "ExecuteTime": {
     "end_time": "2024-08-22T14:47:41.237156Z",
     "start_time": "2024-08-22T14:47:40.939279Z"
    }
   },
   "cell_type": "code",
   "source": [
    "from sklearn.decomposition import PCA\n",
    "\n",
    "pca = PCA()\n",
    "pca_features_data = pca.fit_transform(df)\n",
    "\n",
    "df_pca = pd.DataFrame(pca_features_data, index = df.index, columns = [f'PC{i+1}' for i in range(pca_features_data.shape[1])])\n",
    "df_pca"
   ],
   "id": "dd369fcc706b3cd",
   "outputs": [
    {
     "data": {
      "text/plain": [
       "              PC1       PC2       PC3       PC4       PC5       PC6       PC7  \\\n",
       "CUST_ID                                                                         \n",
       "C17875   0.426122 -2.319369 -1.449907 -0.881266  0.766330 -1.465080  0.145110   \n",
       "C16296   1.198461  1.051690  0.540477 -0.739924 -0.454046  0.055716  1.610331   \n",
       "C17219  -1.999902 -0.595340  1.922875  0.877842 -0.328039 -0.218768  0.383368   \n",
       "C13108  -0.442146  1.290127 -0.705398 -0.139429 -1.445350  0.289122  1.511690   \n",
       "C13576  -2.064534  2.835500  0.107411  0.391108  0.219520 -0.589792 -0.302277   \n",
       "...           ...       ...       ...       ...       ...       ...       ...   \n",
       "C14210   2.393551 -1.127674  0.053223  0.859287  0.293766  0.359398 -0.099911   \n",
       "C17858  -1.898455 -1.274276 -0.735767  0.253601  0.132549 -1.136783  0.537879   \n",
       "C12903  -2.502074 -2.671457  0.399436 -0.674548  1.335930 -0.627254  0.600485   \n",
       "C10444   4.126807  1.523047 -0.639864 -0.383284  0.622737 -0.307016 -0.036156   \n",
       "C10613   1.580947  3.904404 -1.188415 -1.212205 -0.036626 -0.289066  0.912401   \n",
       "\n",
       "              PC8       PC9      PC10      PC11      PC12      PC13      PC14  \\\n",
       "CUST_ID                                                                         \n",
       "C17875  -0.327727 -0.367544 -0.505051  0.243303 -0.408082 -0.555342 -0.076272   \n",
       "C16296   0.212774 -0.246047  0.106264  0.767071 -0.025827 -0.456209 -0.137853   \n",
       "C17219  -0.429526 -0.700053  0.089755 -0.296538 -0.524953 -0.059765  0.169339   \n",
       "C13108   0.127708 -0.222266 -0.761393  0.035204  0.091722  0.093934  0.262234   \n",
       "C13576   0.617933 -0.733354  0.205436  0.260788 -0.304921  0.097113 -0.278185   \n",
       "...           ...       ...       ...       ...       ...       ...       ...   \n",
       "C14210  -0.653339 -0.103305 -0.895932  0.145807  0.027942 -0.004747 -0.077488   \n",
       "C17858  -0.098031 -0.457184  0.445523  0.571416  0.341936 -0.499377 -0.048926   \n",
       "C12903   0.481502  0.756298  0.057462 -0.348056  0.147211  0.274845  0.139114   \n",
       "C10444  -0.591236  0.253263  1.277782  0.340227 -0.090225  0.279264 -0.072804   \n",
       "C10613   0.351911 -0.226141 -0.311920 -0.943972  0.744085 -0.273900 -0.219348   \n",
       "\n",
       "             PC15  \n",
       "CUST_ID            \n",
       "C17875  -0.176238  \n",
       "C16296   0.145458  \n",
       "C17219  -0.022497  \n",
       "C13108  -0.273967  \n",
       "C13576   0.046394  \n",
       "...           ...  \n",
       "C14210   0.223775  \n",
       "C17858  -0.011294  \n",
       "C12903   0.016297  \n",
       "C10444  -0.099496  \n",
       "C10613  -0.002782  \n",
       "\n",
       "[3500 rows x 15 columns]"
      ],
      "text/html": [
       "<div>\n",
       "<style scoped>\n",
       "    .dataframe tbody tr th:only-of-type {\n",
       "        vertical-align: middle;\n",
       "    }\n",
       "\n",
       "    .dataframe tbody tr th {\n",
       "        vertical-align: top;\n",
       "    }\n",
       "\n",
       "    .dataframe thead th {\n",
       "        text-align: right;\n",
       "    }\n",
       "</style>\n",
       "<table border=\"1\" class=\"dataframe\">\n",
       "  <thead>\n",
       "    <tr style=\"text-align: right;\">\n",
       "      <th></th>\n",
       "      <th>PC1</th>\n",
       "      <th>PC2</th>\n",
       "      <th>PC3</th>\n",
       "      <th>PC4</th>\n",
       "      <th>PC5</th>\n",
       "      <th>PC6</th>\n",
       "      <th>PC7</th>\n",
       "      <th>PC8</th>\n",
       "      <th>PC9</th>\n",
       "      <th>PC10</th>\n",
       "      <th>PC11</th>\n",
       "      <th>PC12</th>\n",
       "      <th>PC13</th>\n",
       "      <th>PC14</th>\n",
       "      <th>PC15</th>\n",
       "    </tr>\n",
       "    <tr>\n",
       "      <th>CUST_ID</th>\n",
       "      <th></th>\n",
       "      <th></th>\n",
       "      <th></th>\n",
       "      <th></th>\n",
       "      <th></th>\n",
       "      <th></th>\n",
       "      <th></th>\n",
       "      <th></th>\n",
       "      <th></th>\n",
       "      <th></th>\n",
       "      <th></th>\n",
       "      <th></th>\n",
       "      <th></th>\n",
       "      <th></th>\n",
       "      <th></th>\n",
       "    </tr>\n",
       "  </thead>\n",
       "  <tbody>\n",
       "    <tr>\n",
       "      <th>C17875</th>\n",
       "      <td>0.426122</td>\n",
       "      <td>-2.319369</td>\n",
       "      <td>-1.449907</td>\n",
       "      <td>-0.881266</td>\n",
       "      <td>0.766330</td>\n",
       "      <td>-1.465080</td>\n",
       "      <td>0.145110</td>\n",
       "      <td>-0.327727</td>\n",
       "      <td>-0.367544</td>\n",
       "      <td>-0.505051</td>\n",
       "      <td>0.243303</td>\n",
       "      <td>-0.408082</td>\n",
       "      <td>-0.555342</td>\n",
       "      <td>-0.076272</td>\n",
       "      <td>-0.176238</td>\n",
       "    </tr>\n",
       "    <tr>\n",
       "      <th>C16296</th>\n",
       "      <td>1.198461</td>\n",
       "      <td>1.051690</td>\n",
       "      <td>0.540477</td>\n",
       "      <td>-0.739924</td>\n",
       "      <td>-0.454046</td>\n",
       "      <td>0.055716</td>\n",
       "      <td>1.610331</td>\n",
       "      <td>0.212774</td>\n",
       "      <td>-0.246047</td>\n",
       "      <td>0.106264</td>\n",
       "      <td>0.767071</td>\n",
       "      <td>-0.025827</td>\n",
       "      <td>-0.456209</td>\n",
       "      <td>-0.137853</td>\n",
       "      <td>0.145458</td>\n",
       "    </tr>\n",
       "    <tr>\n",
       "      <th>C17219</th>\n",
       "      <td>-1.999902</td>\n",
       "      <td>-0.595340</td>\n",
       "      <td>1.922875</td>\n",
       "      <td>0.877842</td>\n",
       "      <td>-0.328039</td>\n",
       "      <td>-0.218768</td>\n",
       "      <td>0.383368</td>\n",
       "      <td>-0.429526</td>\n",
       "      <td>-0.700053</td>\n",
       "      <td>0.089755</td>\n",
       "      <td>-0.296538</td>\n",
       "      <td>-0.524953</td>\n",
       "      <td>-0.059765</td>\n",
       "      <td>0.169339</td>\n",
       "      <td>-0.022497</td>\n",
       "    </tr>\n",
       "    <tr>\n",
       "      <th>C13108</th>\n",
       "      <td>-0.442146</td>\n",
       "      <td>1.290127</td>\n",
       "      <td>-0.705398</td>\n",
       "      <td>-0.139429</td>\n",
       "      <td>-1.445350</td>\n",
       "      <td>0.289122</td>\n",
       "      <td>1.511690</td>\n",
       "      <td>0.127708</td>\n",
       "      <td>-0.222266</td>\n",
       "      <td>-0.761393</td>\n",
       "      <td>0.035204</td>\n",
       "      <td>0.091722</td>\n",
       "      <td>0.093934</td>\n",
       "      <td>0.262234</td>\n",
       "      <td>-0.273967</td>\n",
       "    </tr>\n",
       "    <tr>\n",
       "      <th>C13576</th>\n",
       "      <td>-2.064534</td>\n",
       "      <td>2.835500</td>\n",
       "      <td>0.107411</td>\n",
       "      <td>0.391108</td>\n",
       "      <td>0.219520</td>\n",
       "      <td>-0.589792</td>\n",
       "      <td>-0.302277</td>\n",
       "      <td>0.617933</td>\n",
       "      <td>-0.733354</td>\n",
       "      <td>0.205436</td>\n",
       "      <td>0.260788</td>\n",
       "      <td>-0.304921</td>\n",
       "      <td>0.097113</td>\n",
       "      <td>-0.278185</td>\n",
       "      <td>0.046394</td>\n",
       "    </tr>\n",
       "    <tr>\n",
       "      <th>...</th>\n",
       "      <td>...</td>\n",
       "      <td>...</td>\n",
       "      <td>...</td>\n",
       "      <td>...</td>\n",
       "      <td>...</td>\n",
       "      <td>...</td>\n",
       "      <td>...</td>\n",
       "      <td>...</td>\n",
       "      <td>...</td>\n",
       "      <td>...</td>\n",
       "      <td>...</td>\n",
       "      <td>...</td>\n",
       "      <td>...</td>\n",
       "      <td>...</td>\n",
       "      <td>...</td>\n",
       "    </tr>\n",
       "    <tr>\n",
       "      <th>C14210</th>\n",
       "      <td>2.393551</td>\n",
       "      <td>-1.127674</td>\n",
       "      <td>0.053223</td>\n",
       "      <td>0.859287</td>\n",
       "      <td>0.293766</td>\n",
       "      <td>0.359398</td>\n",
       "      <td>-0.099911</td>\n",
       "      <td>-0.653339</td>\n",
       "      <td>-0.103305</td>\n",
       "      <td>-0.895932</td>\n",
       "      <td>0.145807</td>\n",
       "      <td>0.027942</td>\n",
       "      <td>-0.004747</td>\n",
       "      <td>-0.077488</td>\n",
       "      <td>0.223775</td>\n",
       "    </tr>\n",
       "    <tr>\n",
       "      <th>C17858</th>\n",
       "      <td>-1.898455</td>\n",
       "      <td>-1.274276</td>\n",
       "      <td>-0.735767</td>\n",
       "      <td>0.253601</td>\n",
       "      <td>0.132549</td>\n",
       "      <td>-1.136783</td>\n",
       "      <td>0.537879</td>\n",
       "      <td>-0.098031</td>\n",
       "      <td>-0.457184</td>\n",
       "      <td>0.445523</td>\n",
       "      <td>0.571416</td>\n",
       "      <td>0.341936</td>\n",
       "      <td>-0.499377</td>\n",
       "      <td>-0.048926</td>\n",
       "      <td>-0.011294</td>\n",
       "    </tr>\n",
       "    <tr>\n",
       "      <th>C12903</th>\n",
       "      <td>-2.502074</td>\n",
       "      <td>-2.671457</td>\n",
       "      <td>0.399436</td>\n",
       "      <td>-0.674548</td>\n",
       "      <td>1.335930</td>\n",
       "      <td>-0.627254</td>\n",
       "      <td>0.600485</td>\n",
       "      <td>0.481502</td>\n",
       "      <td>0.756298</td>\n",
       "      <td>0.057462</td>\n",
       "      <td>-0.348056</td>\n",
       "      <td>0.147211</td>\n",
       "      <td>0.274845</td>\n",
       "      <td>0.139114</td>\n",
       "      <td>0.016297</td>\n",
       "    </tr>\n",
       "    <tr>\n",
       "      <th>C10444</th>\n",
       "      <td>4.126807</td>\n",
       "      <td>1.523047</td>\n",
       "      <td>-0.639864</td>\n",
       "      <td>-0.383284</td>\n",
       "      <td>0.622737</td>\n",
       "      <td>-0.307016</td>\n",
       "      <td>-0.036156</td>\n",
       "      <td>-0.591236</td>\n",
       "      <td>0.253263</td>\n",
       "      <td>1.277782</td>\n",
       "      <td>0.340227</td>\n",
       "      <td>-0.090225</td>\n",
       "      <td>0.279264</td>\n",
       "      <td>-0.072804</td>\n",
       "      <td>-0.099496</td>\n",
       "    </tr>\n",
       "    <tr>\n",
       "      <th>C10613</th>\n",
       "      <td>1.580947</td>\n",
       "      <td>3.904404</td>\n",
       "      <td>-1.188415</td>\n",
       "      <td>-1.212205</td>\n",
       "      <td>-0.036626</td>\n",
       "      <td>-0.289066</td>\n",
       "      <td>0.912401</td>\n",
       "      <td>0.351911</td>\n",
       "      <td>-0.226141</td>\n",
       "      <td>-0.311920</td>\n",
       "      <td>-0.943972</td>\n",
       "      <td>0.744085</td>\n",
       "      <td>-0.273900</td>\n",
       "      <td>-0.219348</td>\n",
       "      <td>-0.002782</td>\n",
       "    </tr>\n",
       "  </tbody>\n",
       "</table>\n",
       "<p>3500 rows × 15 columns</p>\n",
       "</div>"
      ]
     },
     "execution_count": 4,
     "metadata": {},
     "output_type": "execute_result"
    }
   ],
   "execution_count": 4
  },
  {
   "metadata": {
    "ExecuteTime": {
     "end_time": "2024-08-22T14:47:41.359955Z",
     "start_time": "2024-08-22T14:47:41.237156Z"
    }
   },
   "cell_type": "code",
   "source": [
    "plt.plot(range(1, len(pca.explained_variance_ratio_) + 1),\n",
    "         np.cumsum(pca.explained_variance_ratio_))\n",
    "plt.xlabel('Number of Components')\n",
    "plt.ylabel('Cumulative Explained Variance')\n",
    "plt.title('Explained Variance vs. Number of Components')\n",
    "plt.show()"
   ],
   "id": "a3bbfb61790feaf4",
   "outputs": [
    {
     "data": {
      "text/plain": [
       "<Figure size 640x480 with 1 Axes>"
      ],
      "image/png": "[encoded data removed]"
     },
     "metadata": {},
     "output_type": "display_data"
    }
   ],
   "execution_count": 5
  },
  {
   "metadata": {
    "ExecuteTime": {
     "end_time": "2024-08-22T14:47:41.465652Z",
     "start_time": "2024-08-22T14:47:41.359955Z"
    }
   },
   "cell_type": "code",
   "source": [
    "plt.plot(range(1, len(pca.explained_variance_ratio_) + 1),\n",
    "         pca.explained_variance_ratio_, marker='o')\n",
    "plt.xlabel('Number of Components')\n",
    "plt.ylabel('Explained Variance')\n",
    "plt.title('Scree Plot')\n",
    "plt.show()"
   ],
   "id": "be853c622be38b4d",
   "outputs": [
    {
     "data": {
      "text/plain": [
       "<Figure size 640x480 with 1 Axes>"
      ],
      "image/png": "[encoded data removed]"
     },
     "metadata": {},
     "output_type": "display_data"
    }
   ],
   "execution_count": 6
  },
  {
   "metadata": {},
   "cell_type": "markdown",
   "source": [
    "It can be seen that most variance are explain by the first 5 components. Therefore, we will use the first 5 components for the model for experimental purposes\n",
    "\n",
    "# Saving the Dataset"
   ],
   "id": "e2317f66f6686e0e"
  },
  {
   "metadata": {
    "ExecuteTime": {
     "end_time": "2024-08-22T14:47:41.491050Z",
     "start_time": "2024-08-22T14:47:41.465652Z"
    }
   },
   "cell_type": "code",
   "source": [
    "df_pca = df_pca.iloc[:, :5]\n",
    "df_pca.to_csv(r'../raw_data/customer_pca_5.csv')"
   ],
   "id": "501de4bf0634383f",
   "outputs": [],
   "execution_count": 7
  }
 ],
 "metadata": {
  "kernelspec": {
   "display_name": "Python 3",
   "language": "python",
   "name": "python3"
  },
  "language_info": {
   "codemirror_mode": {
    "name": "ipython",
    "version": 2
   },
   "file_extension": ".py",
   "mimetype": "text/x-python",
   "name": "python",
   "nbconvert_exporter": "python",
   "pygments_lexer": "ipython2",
   "version": "2.7.6"
  }
 },
 "nbformat": 4,
 "nbformat_minor": 5
}
