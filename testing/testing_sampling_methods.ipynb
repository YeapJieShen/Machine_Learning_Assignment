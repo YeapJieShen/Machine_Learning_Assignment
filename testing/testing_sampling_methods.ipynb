{
 "cells": [
  {
   "metadata": {},
   "cell_type": "markdown",
   "source": [
    "# Checking the Python Environment\n",
    "\n",
    "This is to ensure that the correct Python environment is set up correctly and used"
   ],
   "id": "64c993ab19c72eb1"
  },
  {
   "cell_type": "code",
   "id": "initial_id",
   "metadata": {
    "collapsed": true,
    "ExecuteTime": {
     "end_time": "2024-08-15T15:00:06.034222Z",
     "start_time": "2024-08-15T15:00:06.013390Z"
    }
   },
   "source": [
    "import sys\n",
    "import IPython\n",
    "\n",
    "# Change path to append here\n",
    "sys.path.append(r'C:\\Users\\hp\\Downloads\\Machine Learning Assignment')\n",
    "\n",
    "print(\"Python executable:\", sys.executable)\n",
    "print(\"Python version:\", sys.version)\n",
    "print(\"Kernel:\", IPython.get_ipython().kernel)\n",
    "print(\"Sys paths:\", sys.path)"
   ],
   "outputs": [
    {
     "name": "stdout",
     "output_type": "stream",
     "text": [
      "Python executable: C:\\Users\\hp\\anaconda3\\envs\\machine_learning_assignment\\python.exe\n",
      "Python version: 3.11.9 | packaged by Anaconda, Inc. | (main, Apr 19 2024, 16:40:41) [MSC v.1916 64 bit (AMD64)]\n",
      "Kernel: <ipykernel.ipkernel.IPythonKernel object at 0x0000020779035150>\n",
      "Sys paths: ['C:\\\\Program Files\\\\JetBrains\\\\DataSpell 2023.3.4\\\\plugins\\\\python-ce\\\\helpers-pro\\\\jupyter_debug', 'C:\\\\Program Files\\\\JetBrains\\\\DataSpell 2023.3.4\\\\plugins\\\\python-ce\\\\helpers\\\\pydev', 'C:\\\\Users\\\\hp\\\\Downloads\\\\Machine_Learning_Assignment\\\\testing', 'C:\\\\Users\\\\hp\\\\Downloads\\\\Machine_Learning_Assignment', 'C:\\\\Users\\\\hp\\\\anaconda3\\\\envs\\\\machine_learning_assignment\\\\python311.zip', 'C:\\\\Users\\\\hp\\\\anaconda3\\\\envs\\\\machine_learning_assignment\\\\DLLs', 'C:\\\\Users\\\\hp\\\\anaconda3\\\\envs\\\\machine_learning_assignment\\\\Lib', 'C:\\\\Users\\\\hp\\\\anaconda3\\\\envs\\\\machine_learning_assignment', '', 'C:\\\\Users\\\\hp\\\\anaconda3\\\\envs\\\\machine_learning_assignment\\\\Lib\\\\site-packages', 'C:\\\\Users\\\\hp\\\\anaconda3\\\\envs\\\\machine_learning_assignment\\\\Lib\\\\site-packages\\\\win32', 'C:\\\\Users\\\\hp\\\\anaconda3\\\\envs\\\\machine_learning_assignment\\\\Lib\\\\site-packages\\\\win32\\\\lib', 'C:\\\\Users\\\\hp\\\\anaconda3\\\\envs\\\\machine_learning_assignment\\\\Lib\\\\site-packages\\\\Pythonwin', 'C:\\\\Users\\\\hp\\\\Downloads\\\\Machine Learning Assignment']\n"
     ]
    }
   ],
   "execution_count": 2
  },
  {
   "metadata": {},
   "cell_type": "markdown",
   "source": [
    "# Importing Libraries\n",
    "\n",
    "This is to ensure that the necessary libraries are imported and used"
   ],
   "id": "f6a94ad4028a7c16"
  },
  {
   "metadata": {
    "ExecuteTime": {
     "end_time": "2024-08-15T15:00:09.390515Z",
     "start_time": "2024-08-15T15:00:08.825438Z"
    }
   },
   "cell_type": "code",
   "source": [
    "# For DataFrame\n",
    "import pandas as pd\n",
    "\n",
    "# For sampling methods\n",
    "import random\n",
    "import numpy as np\n",
    "from sklearn.model_selection import train_test_split"
   ],
   "id": "12b232994be50dc8",
   "outputs": [],
   "execution_count": 3
  },
  {
   "metadata": {},
   "cell_type": "markdown",
   "source": [
    "# Sampling Methods\n",
    "There are plenty sampling methods available, but not every method is suitable for every dataset. The viability of the sampling method depends on the nature of the dataset, source of data, and the objective of the study. The following shows the sampling methods available in Python:\n",
    "1. Simple Random Sampling\n",
    "2. Systematic Sampling\n",
    "3. Stratified Sampling\n",
    "4. Cluster Sampling\n",
    "5. Reservoir Sampling\n",
    "\n",
    "## 1. Simple Random Sampling\n",
    "This is the most basic and intuitive form of sampling. It is a method where each individual in the population has an equal chance of being selected. This method is suitable  when the dataset is not biased. However, it requires a large sample approximating the population, which is not always available. It can also be unrepresentative when the population is not homogenous.\n",
    "\n",
    "This might be useful for this dataset, but might not be representative enough as the number of records in the original dataset is 8950 rows only, which might not be large enough to represent the whole population.\n",
    "\n",
    "Reference: \n",
    "https://www.investopedia.com/ask/answers/042815/what-are-disadvantages-using-simple-random-sample-approximate-larger-population.asp"
   ],
   "id": "a20049e12cd0164c"
  },
  {
   "metadata": {
    "ExecuteTime": {
     "end_time": "2024-08-15T15:00:13.942978Z",
     "start_time": "2024-08-15T15:00:13.839754Z"
    }
   },
   "cell_type": "code",
   "source": [
    "# Reading preprocessed data\n",
    "df_preprocessed = pd.read_csv(r'../raw_data/customer_preprocessed_imputed_knn_n3_outlier_retained.csv', index_col = 'CUST_ID')\n",
    "\n",
    "# Defining sample size, checking if the sample size is larger than the dataset\n",
    "n = min(3500, len(df_preprocessed))\n",
    "\n",
    "# Simple random sampling, putting random_state for reproducibility\n",
    "df_srs = df_preprocessed.sample(n = n, random_state = 42)\n",
    "\n",
    "df_srs"
   ],
   "id": "c47bdf221f727249",
   "outputs": [
    {
     "data": {
      "text/plain": "             BALANCE  BALANCE_FREQUENCY  PURCHASES  ONEOFF_PURCHASES  \\\nCUST_ID                                                                \nC17875     16.834929           0.454545      15.00             15.00   \nC16296    540.020858           1.000000     612.23            495.61   \nC17219    119.237712           1.000000     342.74              0.00   \nC13108    894.081947           1.000000    1901.71           1853.11   \nC13576   1294.145453           1.000000    3059.10           1836.98   \n...              ...                ...        ...               ...   \nC14210   1539.422470           1.000000       0.00              0.00   \nC17858     21.870580           0.636364     405.00            255.00   \nC12903      7.817753           0.272727     170.02              0.00   \nC10444   6822.877573           1.000000     137.34            137.34   \nC10613   4114.723127           1.000000    1841.62           1456.94   \n\n         INSTALLMENTS_PURCHASES  CASH_ADVANCE  PURCHASES_FREQUENCY  \\\nCUST_ID                                                              \nC17875                     0.00    209.025389             0.090909   \nC16296                   116.62   1708.923217             0.666667   \nC17219                   342.74      0.000000             1.000000   \nC13108                    48.60    206.618780             0.666667   \nC13576                  1222.12      0.000000             1.000000   \n...                         ...           ...                  ...   \nC14210                     0.00   1156.434609             0.000000   \nC17858                   150.00      0.000000             0.333333   \nC12903                   170.02      0.000000             0.500000   \nC10444                     0.00   4815.112874             0.083333   \nC10613                   384.68   4004.273974             1.000000   \n\n         ONEOFF_PURCHASES_FREQUENCY  PURCHASES_INSTALLMENTS_FREQUENCY  \\\nCUST_ID                                                                 \nC17875                     0.090909                          0.000000   \nC16296                     0.166667                          0.500000   \nC17219                     0.000000                          1.000000   \nC13108                     0.666667                          0.416667   \nC13576                     0.416667                          1.000000   \n...                             ...                               ...   \nC14210                     0.000000                          0.000000   \nC17858                     0.083333                          0.250000   \nC12903                     0.000000                          0.500000   \nC10444                     0.083333                          0.000000   \nC10613                     1.000000                          0.250000   \n\n         CASH_ADVANCE_FREQUENCY  CASH_ADVANCE_TRX  PURCHASES_TRX  \\\nCUST_ID                                                            \nC17875                 0.090909                 1              1   \nC16296                 0.333333                10             10   \nC17219                 0.000000                 0             20   \nC13108                 0.083333                 1             33   \nC13576                 0.000000                 0             42   \n...                         ...               ...            ...   \nC14210                 0.083333                 4              0   \nC17858                 0.000000                 0              7   \nC12903                 0.000000                 0              6   \nC10444                 0.666667                16              1   \nC10613                 0.416667                 8             21   \n\n         KNN_IMPUTED_CREDIT_LIMIT     PAYMENTS  KNN_IMPUTED_MINIMUM_PAYMENTS  \\\nCUST_ID                                                                        \nC17875                     7500.0   430.213001                     86.959785   \nC16296                     2000.0  1642.068707                    419.956251   \nC17219                     2000.0   327.166041                    165.207233   \nC13108                     1500.0   947.130141                    220.745296   \nC13576                     7000.0  5560.033502                    497.637767   \n...                           ...          ...                           ...   \nC14210                     3500.0   369.044340                    475.102035   \nC17858                     4000.0   414.423817                     88.853589   \nC12903                     2000.0   373.028410                     73.301702   \nC10444                    10000.0  1874.954894                   1716.092764   \nC10613                     7500.0  7780.322889                    950.496396   \n\n         PRC_FULL_PAYMENT  TENURE  \nCUST_ID                            \nC17875           0.000000      11  \nC16296           0.000000      12  \nC17219           0.000000      12  \nC13108           0.000000      12  \nC13576           0.083333      12  \n...                   ...     ...  \nC14210           0.000000      12  \nC17858           0.000000      12  \nC12903           0.500000      12  \nC10444           0.000000      12  \nC10613           0.000000      12  \n\n[3500 rows x 17 columns]",
      "text/html": "<div>\n<style scoped>\n    .dataframe tbody tr th:only-of-type {\n        vertical-align: middle;\n    }\n\n    .dataframe tbody tr th {\n        vertical-align: top;\n    }\n\n    .dataframe thead th {\n        text-align: right;\n    }\n</style>\n<table border=\"1\" class=\"dataframe\">\n  <thead>\n    <tr style=\"text-align: right;\">\n      <th></th>\n      <th>BALANCE</th>\n      <th>BALANCE_FREQUENCY</th>\n      <th>PURCHASES</th>\n      <th>ONEOFF_PURCHASES</th>\n      <th>INSTALLMENTS_PURCHASES</th>\n      <th>CASH_ADVANCE</th>\n      <th>PURCHASES_FREQUENCY</th>\n      <th>ONEOFF_PURCHASES_FREQUENCY</th>\n      <th>PURCHASES_INSTALLMENTS_FREQUENCY</th>\n      <th>CASH_ADVANCE_FREQUENCY</th>\n      <th>CASH_ADVANCE_TRX</th>\n      <th>PURCHASES_TRX</th>\n      <th>KNN_IMPUTED_CREDIT_LIMIT</th>\n      <th>PAYMENTS</th>\n      <th>KNN_IMPUTED_MINIMUM_PAYMENTS</th>\n      <th>PRC_FULL_PAYMENT</th>\n      <th>TENURE</th>\n    </tr>\n    <tr>\n      <th>CUST_ID</th>\n      <th></th>\n      <th></th>\n      <th></th>\n      <th></th>\n      <th></th>\n      <th></th>\n      <th></th>\n      <th></th>\n      <th></th>\n      <th></th>\n      <th></th>\n      <th></th>\n      <th></th>\n      <th></th>\n      <th></th>\n      <th></th>\n      <th></th>\n    </tr>\n  </thead>\n  <tbody>\n    <tr>\n      <th>C17875</th>\n      <td>16.834929</td>\n      <td>0.454545</td>\n      <td>15.00</td>\n      <td>15.00</td>\n      <td>0.00</td>\n      <td>209.025389</td>\n      <td>0.090909</td>\n      <td>0.090909</td>\n      <td>0.000000</td>\n      <td>0.090909</td>\n      <td>1</td>\n      <td>1</td>\n      <td>7500.0</td>\n      <td>430.213001</td>\n      <td>86.959785</td>\n      <td>0.000000</td>\n      <td>11</td>\n    </tr>\n    <tr>\n      <th>C16296</th>\n      <td>540.020858</td>\n      <td>1.000000</td>\n      <td>612.23</td>\n      <td>495.61</td>\n      <td>116.62</td>\n      <td>1708.923217</td>\n      <td>0.666667</td>\n      <td>0.166667</td>\n      <td>0.500000</td>\n      <td>0.333333</td>\n      <td>10</td>\n      <td>10</td>\n      <td>2000.0</td>\n      <td>1642.068707</td>\n      <td>419.956251</td>\n      <td>0.000000</td>\n      <td>12</td>\n    </tr>\n    <tr>\n      <th>C17219</th>\n      <td>119.237712</td>\n      <td>1.000000</td>\n      <td>342.74</td>\n      <td>0.00</td>\n      <td>342.74</td>\n      <td>0.000000</td>\n      <td>1.000000</td>\n      <td>0.000000</td>\n      <td>1.000000</td>\n      <td>0.000000</td>\n      <td>0</td>\n      <td>20</td>\n      <td>2000.0</td>\n      <td>327.166041</td>\n      <td>165.207233</td>\n      <td>0.000000</td>\n      <td>12</td>\n    </tr>\n    <tr>\n      <th>C13108</th>\n      <td>894.081947</td>\n      <td>1.000000</td>\n      <td>1901.71</td>\n      <td>1853.11</td>\n      <td>48.60</td>\n      <td>206.618780</td>\n      <td>0.666667</td>\n      <td>0.666667</td>\n      <td>0.416667</td>\n      <td>0.083333</td>\n      <td>1</td>\n      <td>33</td>\n      <td>1500.0</td>\n      <td>947.130141</td>\n      <td>220.745296</td>\n      <td>0.000000</td>\n      <td>12</td>\n    </tr>\n    <tr>\n      <th>C13576</th>\n      <td>1294.145453</td>\n      <td>1.000000</td>\n      <td>3059.10</td>\n      <td>1836.98</td>\n      <td>1222.12</td>\n      <td>0.000000</td>\n      <td>1.000000</td>\n      <td>0.416667</td>\n      <td>1.000000</td>\n      <td>0.000000</td>\n      <td>0</td>\n      <td>42</td>\n      <td>7000.0</td>\n      <td>5560.033502</td>\n      <td>497.637767</td>\n      <td>0.083333</td>\n      <td>12</td>\n    </tr>\n    <tr>\n      <th>...</th>\n      <td>...</td>\n      <td>...</td>\n      <td>...</td>\n      <td>...</td>\n      <td>...</td>\n      <td>...</td>\n      <td>...</td>\n      <td>...</td>\n      <td>...</td>\n      <td>...</td>\n      <td>...</td>\n      <td>...</td>\n      <td>...</td>\n      <td>...</td>\n      <td>...</td>\n      <td>...</td>\n      <td>...</td>\n    </tr>\n    <tr>\n      <th>C14210</th>\n      <td>1539.422470</td>\n      <td>1.000000</td>\n      <td>0.00</td>\n      <td>0.00</td>\n      <td>0.00</td>\n      <td>1156.434609</td>\n      <td>0.000000</td>\n      <td>0.000000</td>\n      <td>0.000000</td>\n      <td>0.083333</td>\n      <td>4</td>\n      <td>0</td>\n      <td>3500.0</td>\n      <td>369.044340</td>\n      <td>475.102035</td>\n      <td>0.000000</td>\n      <td>12</td>\n    </tr>\n    <tr>\n      <th>C17858</th>\n      <td>21.870580</td>\n      <td>0.636364</td>\n      <td>405.00</td>\n      <td>255.00</td>\n      <td>150.00</td>\n      <td>0.000000</td>\n      <td>0.333333</td>\n      <td>0.083333</td>\n      <td>0.250000</td>\n      <td>0.000000</td>\n      <td>0</td>\n      <td>7</td>\n      <td>4000.0</td>\n      <td>414.423817</td>\n      <td>88.853589</td>\n      <td>0.000000</td>\n      <td>12</td>\n    </tr>\n    <tr>\n      <th>C12903</th>\n      <td>7.817753</td>\n      <td>0.272727</td>\n      <td>170.02</td>\n      <td>0.00</td>\n      <td>170.02</td>\n      <td>0.000000</td>\n      <td>0.500000</td>\n      <td>0.000000</td>\n      <td>0.500000</td>\n      <td>0.000000</td>\n      <td>0</td>\n      <td>6</td>\n      <td>2000.0</td>\n      <td>373.028410</td>\n      <td>73.301702</td>\n      <td>0.500000</td>\n      <td>12</td>\n    </tr>\n    <tr>\n      <th>C10444</th>\n      <td>6822.877573</td>\n      <td>1.000000</td>\n      <td>137.34</td>\n      <td>137.34</td>\n      <td>0.00</td>\n      <td>4815.112874</td>\n      <td>0.083333</td>\n      <td>0.083333</td>\n      <td>0.000000</td>\n      <td>0.666667</td>\n      <td>16</td>\n      <td>1</td>\n      <td>10000.0</td>\n      <td>1874.954894</td>\n      <td>1716.092764</td>\n      <td>0.000000</td>\n      <td>12</td>\n    </tr>\n    <tr>\n      <th>C10613</th>\n      <td>4114.723127</td>\n      <td>1.000000</td>\n      <td>1841.62</td>\n      <td>1456.94</td>\n      <td>384.68</td>\n      <td>4004.273974</td>\n      <td>1.000000</td>\n      <td>1.000000</td>\n      <td>0.250000</td>\n      <td>0.416667</td>\n      <td>8</td>\n      <td>21</td>\n      <td>7500.0</td>\n      <td>7780.322889</td>\n      <td>950.496396</td>\n      <td>0.000000</td>\n      <td>12</td>\n    </tr>\n  </tbody>\n</table>\n<p>3500 rows × 17 columns</p>\n</div>"
     },
     "execution_count": 4,
     "metadata": {},
     "output_type": "execute_result"
    }
   ],
   "execution_count": 4
  },
  {
   "metadata": {},
   "cell_type": "markdown",
   "source": [
    "## 2. Systematic Sampling\n",
    "This method works by selecting every **k**th individual from the population, easier to implement than simple random sampling. This method eliminates clustered selection, from Simple Random Sampling, whereby samples chosen are exceptionally close to each other, which in Simple Random Sampling can be solved only by increasing the sample size. However, it is not suitable when there is a pattern in the dataset, or when there is a periodic pattern present in the dataset.\n",
    "\n",
    "This might also be useful for this dataset, but might not be representative enough, same as the problem mentioned in 1. (Simple Random Sampling)\n",
    "\n",
    "Reference:\n",
    "https://www.investopedia.com/ask/answers/042415/what-are-advantages-and-disadvantages-using-systematic-sampling.asp"
   ],
   "id": "40ac61563579d192"
  },
  {
   "metadata": {
    "ExecuteTime": {
     "end_time": "2024-08-15T15:00:17.413055Z",
     "start_time": "2024-08-15T15:00:17.360061Z"
    }
   },
   "cell_type": "code",
   "source": [
    "# Computing the k for the given sample size\n",
    "k = len(df_preprocessed) // n\n",
    "\n",
    "# Systematic sampling, limiting to get the desired sample size\n",
    "df_systematic = df_preprocessed.iloc[::k, :].head(n)\n",
    "\n",
    "df_systematic"
   ],
   "id": "47764b4d068aeb87",
   "outputs": [
    {
     "data": {
      "text/plain": "             BALANCE  BALANCE_FREQUENCY  PURCHASES  ONEOFF_PURCHASES  \\\nCUST_ID                                                                \nC10001     40.900749           0.818182      95.40              0.00   \nC10003   2495.148862           1.000000     773.17            773.17   \nC10005    817.714335           1.000000      16.00             16.00   \nC10007    627.260806           1.000000    7091.01           6402.63   \nC10009   1014.926473           1.000000     861.49            661.49   \n...              ...                ...        ...               ...   \nC17181    177.602057           1.000000    2863.31           2407.53   \nC17183   2493.589343           1.000000    4655.55           3299.43   \nC17185    916.627912           1.000000     155.96              0.00   \nC17187     29.602980           0.545455     144.94              0.00   \nC17189   1893.423054           1.000000     650.04              0.00   \n\n         INSTALLMENTS_PURCHASES  CASH_ADVANCE  PURCHASES_FREQUENCY  \\\nCUST_ID                                                              \nC10001                    95.40      0.000000             0.166667   \nC10003                     0.00      0.000000             1.000000   \nC10005                     0.00      0.000000             0.083333   \nC10007                   688.38      0.000000             1.000000   \nC10009                   200.00      0.000000             0.333333   \n...                         ...           ...                  ...   \nC17181                   455.78    832.203874             1.000000   \nC17183                  1356.12      0.000000             0.750000   \nC17185                   155.96      0.000000             0.333333   \nC17187                   144.94      0.000000             0.333333   \nC17189                   650.04    390.362711             1.000000   \n\n         ONEOFF_PURCHASES_FREQUENCY  PURCHASES_INSTALLMENTS_FREQUENCY  \\\nCUST_ID                                                                 \nC10001                     0.000000                          0.083333   \nC10003                     1.000000                          0.000000   \nC10005                     0.083333                          0.000000   \nC10007                     1.000000                          1.000000   \nC10009                     0.083333                          0.250000   \n...                             ...                               ...   \nC17181                     0.583333                          0.750000   \nC17183                     0.500000                          0.666667   \nC17185                     0.000000                          0.333333   \nC17187                     0.000000                          0.250000   \nC17189                     0.000000                          1.000000   \n\n         CASH_ADVANCE_FREQUENCY  CASH_ADVANCE_TRX  PURCHASES_TRX  \\\nCUST_ID                                                            \nC10001                 0.000000                 0              2   \nC10003                 0.000000                 0             12   \nC10005                 0.000000                 0              1   \nC10007                 0.000000                 0             64   \nC10009                 0.000000                 0              5   \n...                         ...               ...            ...   \nC17181                 0.416667                10             27   \nC17183                 0.000000                 0             44   \nC17185                 0.000000                 0              8   \nC17187                 0.000000                 0              7   \nC17189                 0.083333                 1             24   \n\n         KNN_IMPUTED_CREDIT_LIMIT     PAYMENTS  KNN_IMPUTED_MINIMUM_PAYMENTS  \\\nCUST_ID                                                                        \nC10001                     1000.0   201.802084                    139.509787   \nC10003                     7500.0   622.066742                    627.284787   \nC10005                     1200.0   678.334763                    244.791237   \nC10007                    13500.0  6354.314328                    198.065894   \nC10009                     7000.0   688.278568                    311.963409   \n...                           ...          ...                           ...   \nC17181                     1500.0  3344.466066                    203.049504   \nC17183                     6500.0  1231.610235                    832.178621   \nC17185                     1200.0   717.212090                    389.194590   \nC17187                     5000.0   249.685121                     88.988794   \nC17189                     2000.0   775.769041                    751.958904   \n\n         PRC_FULL_PAYMENT  TENURE  \nCUST_ID                            \nC10001           0.000000      12  \nC10003           0.000000      12  \nC10005           0.000000      12  \nC10007           1.000000      12  \nC10009           0.000000      12  \n...                   ...     ...  \nC17181           0.583333      12  \nC17183           0.000000      12  \nC17185           0.000000      12  \nC17187           0.181818      12  \nC17189           0.000000      12  \n\n[3500 rows x 17 columns]",
      "text/html": "<div>\n<style scoped>\n    .dataframe tbody tr th:only-of-type {\n        vertical-align: middle;\n    }\n\n    .dataframe tbody tr th {\n        vertical-align: top;\n    }\n\n    .dataframe thead th {\n        text-align: right;\n    }\n</style>\n<table border=\"1\" class=\"dataframe\">\n  <thead>\n    <tr style=\"text-align: right;\">\n      <th></th>\n      <th>BALANCE</th>\n      <th>BALANCE_FREQUENCY</th>\n      <th>PURCHASES</th>\n      <th>ONEOFF_PURCHASES</th>\n      <th>INSTALLMENTS_PURCHASES</th>\n      <th>CASH_ADVANCE</th>\n      <th>PURCHASES_FREQUENCY</th>\n      <th>ONEOFF_PURCHASES_FREQUENCY</th>\n      <th>PURCHASES_INSTALLMENTS_FREQUENCY</th>\n      <th>CASH_ADVANCE_FREQUENCY</th>\n      <th>CASH_ADVANCE_TRX</th>\n      <th>PURCHASES_TRX</th>\n      <th>KNN_IMPUTED_CREDIT_LIMIT</th>\n      <th>PAYMENTS</th>\n      <th>KNN_IMPUTED_MINIMUM_PAYMENTS</th>\n      <th>PRC_FULL_PAYMENT</th>\n      <th>TENURE</th>\n    </tr>\n    <tr>\n      <th>CUST_ID</th>\n      <th></th>\n      <th></th>\n      <th></th>\n      <th></th>\n      <th></th>\n      <th></th>\n      <th></th>\n      <th></th>\n      <th></th>\n      <th></th>\n      <th></th>\n      <th></th>\n      <th></th>\n      <th></th>\n      <th></th>\n      <th></th>\n      <th></th>\n    </tr>\n  </thead>\n  <tbody>\n    <tr>\n      <th>C10001</th>\n      <td>40.900749</td>\n      <td>0.818182</td>\n      <td>95.40</td>\n      <td>0.00</td>\n      <td>95.40</td>\n      <td>0.000000</td>\n      <td>0.166667</td>\n      <td>0.000000</td>\n      <td>0.083333</td>\n      <td>0.000000</td>\n      <td>0</td>\n      <td>2</td>\n      <td>1000.0</td>\n      <td>201.802084</td>\n      <td>139.509787</td>\n      <td>0.000000</td>\n      <td>12</td>\n    </tr>\n    <tr>\n      <th>C10003</th>\n      <td>2495.148862</td>\n      <td>1.000000</td>\n      <td>773.17</td>\n      <td>773.17</td>\n      <td>0.00</td>\n      <td>0.000000</td>\n      <td>1.000000</td>\n      <td>1.000000</td>\n      <td>0.000000</td>\n      <td>0.000000</td>\n      <td>0</td>\n      <td>12</td>\n      <td>7500.0</td>\n      <td>622.066742</td>\n      <td>627.284787</td>\n      <td>0.000000</td>\n      <td>12</td>\n    </tr>\n    <tr>\n      <th>C10005</th>\n      <td>817.714335</td>\n      <td>1.000000</td>\n      <td>16.00</td>\n      <td>16.00</td>\n      <td>0.00</td>\n      <td>0.000000</td>\n      <td>0.083333</td>\n      <td>0.083333</td>\n      <td>0.000000</td>\n      <td>0.000000</td>\n      <td>0</td>\n      <td>1</td>\n      <td>1200.0</td>\n      <td>678.334763</td>\n      <td>244.791237</td>\n      <td>0.000000</td>\n      <td>12</td>\n    </tr>\n    <tr>\n      <th>C10007</th>\n      <td>627.260806</td>\n      <td>1.000000</td>\n      <td>7091.01</td>\n      <td>6402.63</td>\n      <td>688.38</td>\n      <td>0.000000</td>\n      <td>1.000000</td>\n      <td>1.000000</td>\n      <td>1.000000</td>\n      <td>0.000000</td>\n      <td>0</td>\n      <td>64</td>\n      <td>13500.0</td>\n      <td>6354.314328</td>\n      <td>198.065894</td>\n      <td>1.000000</td>\n      <td>12</td>\n    </tr>\n    <tr>\n      <th>C10009</th>\n      <td>1014.926473</td>\n      <td>1.000000</td>\n      <td>861.49</td>\n      <td>661.49</td>\n      <td>200.00</td>\n      <td>0.000000</td>\n      <td>0.333333</td>\n      <td>0.083333</td>\n      <td>0.250000</td>\n      <td>0.000000</td>\n      <td>0</td>\n      <td>5</td>\n      <td>7000.0</td>\n      <td>688.278568</td>\n      <td>311.963409</td>\n      <td>0.000000</td>\n      <td>12</td>\n    </tr>\n    <tr>\n      <th>...</th>\n      <td>...</td>\n      <td>...</td>\n      <td>...</td>\n      <td>...</td>\n      <td>...</td>\n      <td>...</td>\n      <td>...</td>\n      <td>...</td>\n      <td>...</td>\n      <td>...</td>\n      <td>...</td>\n      <td>...</td>\n      <td>...</td>\n      <td>...</td>\n      <td>...</td>\n      <td>...</td>\n      <td>...</td>\n    </tr>\n    <tr>\n      <th>C17181</th>\n      <td>177.602057</td>\n      <td>1.000000</td>\n      <td>2863.31</td>\n      <td>2407.53</td>\n      <td>455.78</td>\n      <td>832.203874</td>\n      <td>1.000000</td>\n      <td>0.583333</td>\n      <td>0.750000</td>\n      <td>0.416667</td>\n      <td>10</td>\n      <td>27</td>\n      <td>1500.0</td>\n      <td>3344.466066</td>\n      <td>203.049504</td>\n      <td>0.583333</td>\n      <td>12</td>\n    </tr>\n    <tr>\n      <th>C17183</th>\n      <td>2493.589343</td>\n      <td>1.000000</td>\n      <td>4655.55</td>\n      <td>3299.43</td>\n      <td>1356.12</td>\n      <td>0.000000</td>\n      <td>0.750000</td>\n      <td>0.500000</td>\n      <td>0.666667</td>\n      <td>0.000000</td>\n      <td>0</td>\n      <td>44</td>\n      <td>6500.0</td>\n      <td>1231.610235</td>\n      <td>832.178621</td>\n      <td>0.000000</td>\n      <td>12</td>\n    </tr>\n    <tr>\n      <th>C17185</th>\n      <td>916.627912</td>\n      <td>1.000000</td>\n      <td>155.96</td>\n      <td>0.00</td>\n      <td>155.96</td>\n      <td>0.000000</td>\n      <td>0.333333</td>\n      <td>0.000000</td>\n      <td>0.333333</td>\n      <td>0.000000</td>\n      <td>0</td>\n      <td>8</td>\n      <td>1200.0</td>\n      <td>717.212090</td>\n      <td>389.194590</td>\n      <td>0.000000</td>\n      <td>12</td>\n    </tr>\n    <tr>\n      <th>C17187</th>\n      <td>29.602980</td>\n      <td>0.545455</td>\n      <td>144.94</td>\n      <td>0.00</td>\n      <td>144.94</td>\n      <td>0.000000</td>\n      <td>0.333333</td>\n      <td>0.000000</td>\n      <td>0.250000</td>\n      <td>0.000000</td>\n      <td>0</td>\n      <td>7</td>\n      <td>5000.0</td>\n      <td>249.685121</td>\n      <td>88.988794</td>\n      <td>0.181818</td>\n      <td>12</td>\n    </tr>\n    <tr>\n      <th>C17189</th>\n      <td>1893.423054</td>\n      <td>1.000000</td>\n      <td>650.04</td>\n      <td>0.00</td>\n      <td>650.04</td>\n      <td>390.362711</td>\n      <td>1.000000</td>\n      <td>0.000000</td>\n      <td>1.000000</td>\n      <td>0.083333</td>\n      <td>1</td>\n      <td>24</td>\n      <td>2000.0</td>\n      <td>775.769041</td>\n      <td>751.958904</td>\n      <td>0.000000</td>\n      <td>12</td>\n    </tr>\n  </tbody>\n</table>\n<p>3500 rows × 17 columns</p>\n</div>"
     },
     "execution_count": 5,
     "metadata": {},
     "output_type": "execute_result"
    }
   ],
   "execution_count": 5
  },
  {
   "metadata": {},
   "cell_type": "markdown",
   "source": [
    "## 3. Stratified Sampling\n",
    "This method works by first defining the strata, which are the subgroups of the population, then selecting the sample from each stratum. This method is useful when the whole dataset is heterogeneous, but each stratum itself in the dataset is homogenous. However, this method requires strong prior knowledge about the dataset is required to define the strata, otherwise biases (e.g. selection bias) may be introduced to the samples. \n",
    "\n",
    "This method is not suitable for this dataset as the 'stratifiable' columns is not clearly observed and defined. But for illustration purposes, 'TENURE' is made the strata column.\n",
    "\n",
    "Reference:\n",
    "https://www.qualtrics.com/en-au/experience-management/research/stratified-random-sampling/?rid=ip&prevsite=en&newsite=au&geo=MY&geomatch=au"
   ],
   "id": "67c31322e148e7cd"
  },
  {
   "metadata": {
    "ExecuteTime": {
     "end_time": "2024-08-15T15:00:20.221435Z",
     "start_time": "2024-08-15T15:00:20.183196Z"
    }
   },
   "cell_type": "code",
   "source": [
    "# Defining the strata column\n",
    "strata_column = 'TENURE'\n",
    "\n",
    "# Stratified sampling\n",
    "_, df_stratified = train_test_split(df_preprocessed, test_size = n, stratify = df_preprocessed[strata_column], random_state=42)\n",
    "\n",
    "df_stratified"
   ],
   "id": "5a7b856052bed50",
   "outputs": [
    {
     "data": {
      "text/plain": "             BALANCE  BALANCE_FREQUENCY  PURCHASES  ONEOFF_PURCHASES  \\\nCUST_ID                                                                \nC15563   2933.387442           0.727273       0.00              0.00   \nC12893   2432.276042           1.000000    7156.11           5921.26   \nC16341   4183.825982           1.000000     490.61             45.65   \nC12359   5355.922523           1.000000    2469.28            905.98   \nC18783    221.810125           0.727273       0.00              0.00   \n...              ...                ...        ...               ...   \nC13414    790.367002           1.000000    3663.31           2744.88   \nC16991    119.368715           0.909091     339.11            611.65   \nC12846    179.882212           1.000000     828.00              0.00   \nC13691      1.869435           0.454545       0.24              0.24   \nC13463   1299.826045           1.000000     599.74            524.50   \n\n         INSTALLMENTS_PURCHASES  CASH_ADVANCE  PURCHASES_FREQUENCY  \\\nCUST_ID                                                              \nC15563                     0.00   3317.250842             0.000000   \nC12893                  1234.85   1543.726862             0.833333   \nC16341                   444.96    178.950075             0.666667   \nC12359                  1563.30   5839.680075             0.916667   \nC18783                     0.00    903.684584             0.000000   \n...                         ...           ...                  ...   \nC13414                   918.43      0.000000             1.000000   \nC16991                    12.41     87.547315             0.416667   \nC12846                   828.00      0.000000             1.000000   \nC13691                     0.00      0.000000             0.083333   \nC13463                    75.24    160.706720             0.250000   \n\n         ONEOFF_PURCHASES_FREQUENCY  PURCHASES_INSTALLMENTS_FREQUENCY  \\\nCUST_ID                                                                 \nC15563                     0.000000                          0.000000   \nC12893                     0.833333                          0.666667   \nC16341                     0.083333                          0.666667   \nC12359                     0.583333                          0.833333   \nC18783                     0.000000                          0.000000   \n...                             ...                               ...   \nC13414                     1.000000                          0.833333   \nC16991                     0.500000                          0.083333   \nC12846                     0.000000                          1.000000   \nC13691                     0.083333                          0.000000   \nC13463                     0.083333                          0.166667   \n\n         CASH_ADVANCE_FREQUENCY  CASH_ADVANCE_TRX  PURCHASES_TRX  \\\nCUST_ID                                                            \nC15563                 0.250000                 5              0   \nC12893                 0.166667                 3            198   \nC16341                 0.333333                 4             13   \nC12359                 0.666667                27             33   \nC18783                 0.166667                 2              0   \n...                         ...               ...            ...   \nC13414                 0.000000                 0             70   \nC16991                 0.083333                 2              5   \nC12846                 0.000000                 0             12   \nC13691                 0.000000                 0              0   \nC13463                 0.166667                 2              5   \n\n         KNN_IMPUTED_CREDIT_LIMIT     PAYMENTS  KNN_IMPUTED_MINIMUM_PAYMENTS  \\\nCUST_ID                                                                        \nC15563                     6500.0  9317.533927                    929.334025   \nC12893                     9500.0  1914.832296                    621.422606   \nC16341                     4500.0  1541.998312                   2410.083966   \nC12359                     8000.0  1226.857482                   2016.382990   \nC18783                      500.0   662.179022                    168.620500   \n...                           ...          ...                           ...   \nC13414                     5000.0  4232.922974                    250.545557   \nC16991                     6500.0   107.203529                    187.367893   \nC12846                     1000.0   649.951462                    152.775223   \nC13691                     3000.0   150.381107                     53.294711   \nC13463                     1500.0   589.628198                    489.936556   \n\n         PRC_FULL_PAYMENT  TENURE  \nCUST_ID                            \nC15563           0.125000      12  \nC12893           0.083333      12  \nC16341           0.000000      12  \nC12359           0.000000      12  \nC18783           0.166667      12  \n...                   ...     ...  \nC13414           0.000000      12  \nC16991           0.000000      12  \nC12846           0.300000      12  \nC13691           0.000000      12  \nC13463           0.000000      12  \n\n[3500 rows x 17 columns]",
      "text/html": "<div>\n<style scoped>\n    .dataframe tbody tr th:only-of-type {\n        vertical-align: middle;\n    }\n\n    .dataframe tbody tr th {\n        vertical-align: top;\n    }\n\n    .dataframe thead th {\n        text-align: right;\n    }\n</style>\n<table border=\"1\" class=\"dataframe\">\n  <thead>\n    <tr style=\"text-align: right;\">\n      <th></th>\n      <th>BALANCE</th>\n      <th>BALANCE_FREQUENCY</th>\n      <th>PURCHASES</th>\n      <th>ONEOFF_PURCHASES</th>\n      <th>INSTALLMENTS_PURCHASES</th>\n      <th>CASH_ADVANCE</th>\n      <th>PURCHASES_FREQUENCY</th>\n      <th>ONEOFF_PURCHASES_FREQUENCY</th>\n      <th>PURCHASES_INSTALLMENTS_FREQUENCY</th>\n      <th>CASH_ADVANCE_FREQUENCY</th>\n      <th>CASH_ADVANCE_TRX</th>\n      <th>PURCHASES_TRX</th>\n      <th>KNN_IMPUTED_CREDIT_LIMIT</th>\n      <th>PAYMENTS</th>\n      <th>KNN_IMPUTED_MINIMUM_PAYMENTS</th>\n      <th>PRC_FULL_PAYMENT</th>\n      <th>TENURE</th>\n    </tr>\n    <tr>\n      <th>CUST_ID</th>\n      <th></th>\n      <th></th>\n      <th></th>\n      <th></th>\n      <th></th>\n      <th></th>\n      <th></th>\n      <th></th>\n      <th></th>\n      <th></th>\n      <th></th>\n      <th></th>\n      <th></th>\n      <th></th>\n      <th></th>\n      <th></th>\n      <th></th>\n    </tr>\n  </thead>\n  <tbody>\n    <tr>\n      <th>C15563</th>\n      <td>2933.387442</td>\n      <td>0.727273</td>\n      <td>0.00</td>\n      <td>0.00</td>\n      <td>0.00</td>\n      <td>3317.250842</td>\n      <td>0.000000</td>\n      <td>0.000000</td>\n      <td>0.000000</td>\n      <td>0.250000</td>\n      <td>5</td>\n      <td>0</td>\n      <td>6500.0</td>\n      <td>9317.533927</td>\n      <td>929.334025</td>\n      <td>0.125000</td>\n      <td>12</td>\n    </tr>\n    <tr>\n      <th>C12893</th>\n      <td>2432.276042</td>\n      <td>1.000000</td>\n      <td>7156.11</td>\n      <td>5921.26</td>\n      <td>1234.85</td>\n      <td>1543.726862</td>\n      <td>0.833333</td>\n      <td>0.833333</td>\n      <td>0.666667</td>\n      <td>0.166667</td>\n      <td>3</td>\n      <td>198</td>\n      <td>9500.0</td>\n      <td>1914.832296</td>\n      <td>621.422606</td>\n      <td>0.083333</td>\n      <td>12</td>\n    </tr>\n    <tr>\n      <th>C16341</th>\n      <td>4183.825982</td>\n      <td>1.000000</td>\n      <td>490.61</td>\n      <td>45.65</td>\n      <td>444.96</td>\n      <td>178.950075</td>\n      <td>0.666667</td>\n      <td>0.083333</td>\n      <td>0.666667</td>\n      <td>0.333333</td>\n      <td>4</td>\n      <td>13</td>\n      <td>4500.0</td>\n      <td>1541.998312</td>\n      <td>2410.083966</td>\n      <td>0.000000</td>\n      <td>12</td>\n    </tr>\n    <tr>\n      <th>C12359</th>\n      <td>5355.922523</td>\n      <td>1.000000</td>\n      <td>2469.28</td>\n      <td>905.98</td>\n      <td>1563.30</td>\n      <td>5839.680075</td>\n      <td>0.916667</td>\n      <td>0.583333</td>\n      <td>0.833333</td>\n      <td>0.666667</td>\n      <td>27</td>\n      <td>33</td>\n      <td>8000.0</td>\n      <td>1226.857482</td>\n      <td>2016.382990</td>\n      <td>0.000000</td>\n      <td>12</td>\n    </tr>\n    <tr>\n      <th>C18783</th>\n      <td>221.810125</td>\n      <td>0.727273</td>\n      <td>0.00</td>\n      <td>0.00</td>\n      <td>0.00</td>\n      <td>903.684584</td>\n      <td>0.000000</td>\n      <td>0.000000</td>\n      <td>0.000000</td>\n      <td>0.166667</td>\n      <td>2</td>\n      <td>0</td>\n      <td>500.0</td>\n      <td>662.179022</td>\n      <td>168.620500</td>\n      <td>0.166667</td>\n      <td>12</td>\n    </tr>\n    <tr>\n      <th>...</th>\n      <td>...</td>\n      <td>...</td>\n      <td>...</td>\n      <td>...</td>\n      <td>...</td>\n      <td>...</td>\n      <td>...</td>\n      <td>...</td>\n      <td>...</td>\n      <td>...</td>\n      <td>...</td>\n      <td>...</td>\n      <td>...</td>\n      <td>...</td>\n      <td>...</td>\n      <td>...</td>\n      <td>...</td>\n    </tr>\n    <tr>\n      <th>C13414</th>\n      <td>790.367002</td>\n      <td>1.000000</td>\n      <td>3663.31</td>\n      <td>2744.88</td>\n      <td>918.43</td>\n      <td>0.000000</td>\n      <td>1.000000</td>\n      <td>1.000000</td>\n      <td>0.833333</td>\n      <td>0.000000</td>\n      <td>0</td>\n      <td>70</td>\n      <td>5000.0</td>\n      <td>4232.922974</td>\n      <td>250.545557</td>\n      <td>0.000000</td>\n      <td>12</td>\n    </tr>\n    <tr>\n      <th>C16991</th>\n      <td>119.368715</td>\n      <td>0.909091</td>\n      <td>339.11</td>\n      <td>611.65</td>\n      <td>12.41</td>\n      <td>87.547315</td>\n      <td>0.416667</td>\n      <td>0.500000</td>\n      <td>0.083333</td>\n      <td>0.083333</td>\n      <td>2</td>\n      <td>5</td>\n      <td>6500.0</td>\n      <td>107.203529</td>\n      <td>187.367893</td>\n      <td>0.000000</td>\n      <td>12</td>\n    </tr>\n    <tr>\n      <th>C12846</th>\n      <td>179.882212</td>\n      <td>1.000000</td>\n      <td>828.00</td>\n      <td>0.00</td>\n      <td>828.00</td>\n      <td>0.000000</td>\n      <td>1.000000</td>\n      <td>0.000000</td>\n      <td>1.000000</td>\n      <td>0.000000</td>\n      <td>0</td>\n      <td>12</td>\n      <td>1000.0</td>\n      <td>649.951462</td>\n      <td>152.775223</td>\n      <td>0.300000</td>\n      <td>12</td>\n    </tr>\n    <tr>\n      <th>C13691</th>\n      <td>1.869435</td>\n      <td>0.454545</td>\n      <td>0.24</td>\n      <td>0.24</td>\n      <td>0.00</td>\n      <td>0.000000</td>\n      <td>0.083333</td>\n      <td>0.083333</td>\n      <td>0.000000</td>\n      <td>0.000000</td>\n      <td>0</td>\n      <td>0</td>\n      <td>3000.0</td>\n      <td>150.381107</td>\n      <td>53.294711</td>\n      <td>0.000000</td>\n      <td>12</td>\n    </tr>\n    <tr>\n      <th>C13463</th>\n      <td>1299.826045</td>\n      <td>1.000000</td>\n      <td>599.74</td>\n      <td>524.50</td>\n      <td>75.24</td>\n      <td>160.706720</td>\n      <td>0.250000</td>\n      <td>0.083333</td>\n      <td>0.166667</td>\n      <td>0.166667</td>\n      <td>2</td>\n      <td>5</td>\n      <td>1500.0</td>\n      <td>589.628198</td>\n      <td>489.936556</td>\n      <td>0.000000</td>\n      <td>12</td>\n    </tr>\n  </tbody>\n</table>\n<p>3500 rows × 17 columns</p>\n</div>"
     },
     "execution_count": 6,
     "metadata": {},
     "output_type": "execute_result"
    }
   ],
   "execution_count": 6
  },
  {
   "metadata": {},
   "cell_type": "markdown",
   "source": [
    "## 4. Cluster Sampling\n",
    "This method works by dividing the population into clusters, then randomly selecting the clusters to sample from. This method is useful when the dataset is large. Homogeneity is present among clusters, but heterogeneity is present within clusters. However, this method is not suitable when the clusters are not homogenous, or when the clusters are not representative of the population.\n",
    "\n",
    "This method is not suitable for this dataset, as the 'clusterable' column is not clearly observed and defined, and also it is not suitable for clustering machine learning tasks. But for illustration purposes, 'TENURE' is made the cluster column.\n",
    "\n",
    "Reference:\n",
    "\n",
    "https://corporatefinanceinstitute.com/resources/data-science/cluster-sampling/"
   ],
   "id": "ced55c72b0720569"
  },
  {
   "metadata": {
    "ExecuteTime": {
     "end_time": "2024-08-15T15:00:23.093896Z",
     "start_time": "2024-08-15T15:00:23.037221Z"
    }
   },
   "cell_type": "code",
   "source": [
    "# Defining the clustering column\n",
    "cluster_column = 'TENURE'\n",
    "\n",
    "# Cluster sampling, setting random seed for reproducibility\n",
    "clusters = df_preprocessed.groupby(cluster_column)\n",
    "np.random.seed(42)\n",
    "\n",
    "# Getting the desired sample size\n",
    "df_cluster = pd.DataFrame()\n",
    "selected_clusters = set()\n",
    "while len(df_cluster) < n:\n",
    "    cluster = np.random.choice(list(clusters.groups.keys()), replace = False)\n",
    "    selected_clusters.add(cluster)\n",
    "    df_cluster = pd.concat([df_cluster, clusters.get_group(cluster)], axis = 0)\n",
    "\n",
    "# Selecting the desired sample size\n",
    "df_cluster = df_cluster.head(n)\n",
    "\n",
    "df_cluster"
   ],
   "id": "127c75fb28b7e44e",
   "outputs": [
    {
     "data": {
      "text/plain": "              BALANCE  BALANCE_FREQUENCY  PURCHASES  ONEOFF_PURCHASES  \\\nCUST_ID                                                                 \nC10170     114.593817           1.000000     469.98              0.00   \nC10274    7755.698607           1.000000    8533.54           4072.76   \nC10411     918.342234           1.000000    1221.53           1180.00   \nC10471    9601.071318           1.000000     238.34              0.00   \nC10567      76.935610           0.833333     277.00            277.00   \n...               ...                ...        ...               ...   \nC10884   10131.000550           1.000000       0.00              0.00   \nC10885    4419.302940           1.000000   12551.95          10901.24   \nC10886    2173.621597           1.000000     200.00            200.00   \nC10887    9901.685569           1.000000    2190.95            832.49   \nC10888    2320.309453           1.000000    2896.05           2209.21   \n\n         INSTALLMENTS_PURCHASES  CASH_ADVANCE  PURCHASES_FREQUENCY  \\\nCUST_ID                                                              \nC10170                   469.98      0.000000             1.000000   \nC10274                  4460.78   7540.307350             1.000000   \nC10411                    41.53   1078.788118             0.333333   \nC10471                   238.34   4809.119550             0.833333   \nC10567                     0.00      0.000000             0.333333   \n...                         ...           ...                  ...   \nC10884                     0.00   3330.326162             0.000000   \nC10885                  1650.71  14896.540510             1.000000   \nC10886                     0.00    201.404735             0.083333   \nC10887                  1358.46   1913.350112             1.000000   \nC10888                   686.84    187.030671             1.000000   \n\n         ONEOFF_PURCHASES_FREQUENCY  PURCHASES_INSTALLMENTS_FREQUENCY  \\\nCUST_ID                                                                 \nC10170                     0.000000                          0.833333   \nC10274                     0.500000                          0.833333   \nC10411                     0.166667                          0.166667   \nC10471                     0.000000                          0.833333   \nC10567                     0.333333                          0.000000   \n...                             ...                               ...   \nC10884                     0.000000                          0.000000   \nC10885                     0.666667                          1.000000   \nC10886                     0.083333                          0.000000   \nC10887                     0.416667                          0.916667   \nC10888                     0.916667                          0.916667   \n\n         CASH_ADVANCE_FREQUENCY  CASH_ADVANCE_TRX  PURCHASES_TRX  \\\nCUST_ID                                                            \nC10170                 0.000000                 0              6   \nC10274                 0.500000                12             72   \nC10411                 0.166667                 7              2   \nC10471                 1.000000                 8              5   \nC10567                 0.000000                 0              2   \n...                         ...               ...            ...   \nC10884                 0.166667                 5              0   \nC10885                 0.500000                19            122   \nC10886                 0.250000                 4              1   \nC10887                 0.250000                 4             43   \nC10888                 0.083333                 1             90   \n\n         KNN_IMPUTED_CREDIT_LIMIT      PAYMENTS  KNN_IMPUTED_MINIMUM_PAYMENTS  \\\nCUST_ID                                                                         \nC10170                     1000.0    367.109312                     86.102479   \nC10274                    10000.0   4758.209146                   7256.951816   \nC10411                     1200.0   1421.035206                    106.039362   \nC10471                    15000.0   1194.510762                   1206.257247   \nC10567                     8500.0    814.605178                    109.433095   \n...                           ...           ...                           ...   \nC10884                    14500.0   4056.944212                   2592.311811   \nC10885                    17000.0  31698.419020                   1448.585054   \nC10886                     8000.0    495.968187                    502.765453   \nC10887                    11500.0   2972.248185                   2849.235124   \nC10888                    13500.0   1341.195566                    559.284909   \n\n         PRC_FULL_PAYMENT  TENURE  \nCUST_ID                            \nC10170           0.500000       6  \nC10274           0.000000       6  \nC10411           0.250000       6  \nC10471           0.000000       6  \nC10567           0.333333       6  \n...                   ...     ...  \nC10884           0.000000      12  \nC10885           0.416667      12  \nC10886           0.000000      12  \nC10887           0.000000      12  \nC10888           0.000000      12  \n\n[3500 rows x 17 columns]",
      "text/html": "<div>\n<style scoped>\n    .dataframe tbody tr th:only-of-type {\n        vertical-align: middle;\n    }\n\n    .dataframe tbody tr th {\n        vertical-align: top;\n    }\n\n    .dataframe thead th {\n        text-align: right;\n    }\n</style>\n<table border=\"1\" class=\"dataframe\">\n  <thead>\n    <tr style=\"text-align: right;\">\n      <th></th>\n      <th>BALANCE</th>\n      <th>BALANCE_FREQUENCY</th>\n      <th>PURCHASES</th>\n      <th>ONEOFF_PURCHASES</th>\n      <th>INSTALLMENTS_PURCHASES</th>\n      <th>CASH_ADVANCE</th>\n      <th>PURCHASES_FREQUENCY</th>\n      <th>ONEOFF_PURCHASES_FREQUENCY</th>\n      <th>PURCHASES_INSTALLMENTS_FREQUENCY</th>\n      <th>CASH_ADVANCE_FREQUENCY</th>\n      <th>CASH_ADVANCE_TRX</th>\n      <th>PURCHASES_TRX</th>\n      <th>KNN_IMPUTED_CREDIT_LIMIT</th>\n      <th>PAYMENTS</th>\n      <th>KNN_IMPUTED_MINIMUM_PAYMENTS</th>\n      <th>PRC_FULL_PAYMENT</th>\n      <th>TENURE</th>\n    </tr>\n    <tr>\n      <th>CUST_ID</th>\n      <th></th>\n      <th></th>\n      <th></th>\n      <th></th>\n      <th></th>\n      <th></th>\n      <th></th>\n      <th></th>\n      <th></th>\n      <th></th>\n      <th></th>\n      <th></th>\n      <th></th>\n      <th></th>\n      <th></th>\n      <th></th>\n      <th></th>\n    </tr>\n  </thead>\n  <tbody>\n    <tr>\n      <th>C10170</th>\n      <td>114.593817</td>\n      <td>1.000000</td>\n      <td>469.98</td>\n      <td>0.00</td>\n      <td>469.98</td>\n      <td>0.000000</td>\n      <td>1.000000</td>\n      <td>0.000000</td>\n      <td>0.833333</td>\n      <td>0.000000</td>\n      <td>0</td>\n      <td>6</td>\n      <td>1000.0</td>\n      <td>367.109312</td>\n      <td>86.102479</td>\n      <td>0.500000</td>\n      <td>6</td>\n    </tr>\n    <tr>\n      <th>C10274</th>\n      <td>7755.698607</td>\n      <td>1.000000</td>\n      <td>8533.54</td>\n      <td>4072.76</td>\n      <td>4460.78</td>\n      <td>7540.307350</td>\n      <td>1.000000</td>\n      <td>0.500000</td>\n      <td>0.833333</td>\n      <td>0.500000</td>\n      <td>12</td>\n      <td>72</td>\n      <td>10000.0</td>\n      <td>4758.209146</td>\n      <td>7256.951816</td>\n      <td>0.000000</td>\n      <td>6</td>\n    </tr>\n    <tr>\n      <th>C10411</th>\n      <td>918.342234</td>\n      <td>1.000000</td>\n      <td>1221.53</td>\n      <td>1180.00</td>\n      <td>41.53</td>\n      <td>1078.788118</td>\n      <td>0.333333</td>\n      <td>0.166667</td>\n      <td>0.166667</td>\n      <td>0.166667</td>\n      <td>7</td>\n      <td>2</td>\n      <td>1200.0</td>\n      <td>1421.035206</td>\n      <td>106.039362</td>\n      <td>0.250000</td>\n      <td>6</td>\n    </tr>\n    <tr>\n      <th>C10471</th>\n      <td>9601.071318</td>\n      <td>1.000000</td>\n      <td>238.34</td>\n      <td>0.00</td>\n      <td>238.34</td>\n      <td>4809.119550</td>\n      <td>0.833333</td>\n      <td>0.000000</td>\n      <td>0.833333</td>\n      <td>1.000000</td>\n      <td>8</td>\n      <td>5</td>\n      <td>15000.0</td>\n      <td>1194.510762</td>\n      <td>1206.257247</td>\n      <td>0.000000</td>\n      <td>6</td>\n    </tr>\n    <tr>\n      <th>C10567</th>\n      <td>76.935610</td>\n      <td>0.833333</td>\n      <td>277.00</td>\n      <td>277.00</td>\n      <td>0.00</td>\n      <td>0.000000</td>\n      <td>0.333333</td>\n      <td>0.333333</td>\n      <td>0.000000</td>\n      <td>0.000000</td>\n      <td>0</td>\n      <td>2</td>\n      <td>8500.0</td>\n      <td>814.605178</td>\n      <td>109.433095</td>\n      <td>0.333333</td>\n      <td>6</td>\n    </tr>\n    <tr>\n      <th>...</th>\n      <td>...</td>\n      <td>...</td>\n      <td>...</td>\n      <td>...</td>\n      <td>...</td>\n      <td>...</td>\n      <td>...</td>\n      <td>...</td>\n      <td>...</td>\n      <td>...</td>\n      <td>...</td>\n      <td>...</td>\n      <td>...</td>\n      <td>...</td>\n      <td>...</td>\n      <td>...</td>\n      <td>...</td>\n    </tr>\n    <tr>\n      <th>C10884</th>\n      <td>10131.000550</td>\n      <td>1.000000</td>\n      <td>0.00</td>\n      <td>0.00</td>\n      <td>0.00</td>\n      <td>3330.326162</td>\n      <td>0.000000</td>\n      <td>0.000000</td>\n      <td>0.000000</td>\n      <td>0.166667</td>\n      <td>5</td>\n      <td>0</td>\n      <td>14500.0</td>\n      <td>4056.944212</td>\n      <td>2592.311811</td>\n      <td>0.000000</td>\n      <td>12</td>\n    </tr>\n    <tr>\n      <th>C10885</th>\n      <td>4419.302940</td>\n      <td>1.000000</td>\n      <td>12551.95</td>\n      <td>10901.24</td>\n      <td>1650.71</td>\n      <td>14896.540510</td>\n      <td>1.000000</td>\n      <td>0.666667</td>\n      <td>1.000000</td>\n      <td>0.500000</td>\n      <td>19</td>\n      <td>122</td>\n      <td>17000.0</td>\n      <td>31698.419020</td>\n      <td>1448.585054</td>\n      <td>0.416667</td>\n      <td>12</td>\n    </tr>\n    <tr>\n      <th>C10886</th>\n      <td>2173.621597</td>\n      <td>1.000000</td>\n      <td>200.00</td>\n      <td>200.00</td>\n      <td>0.00</td>\n      <td>201.404735</td>\n      <td>0.083333</td>\n      <td>0.083333</td>\n      <td>0.000000</td>\n      <td>0.250000</td>\n      <td>4</td>\n      <td>1</td>\n      <td>8000.0</td>\n      <td>495.968187</td>\n      <td>502.765453</td>\n      <td>0.000000</td>\n      <td>12</td>\n    </tr>\n    <tr>\n      <th>C10887</th>\n      <td>9901.685569</td>\n      <td>1.000000</td>\n      <td>2190.95</td>\n      <td>832.49</td>\n      <td>1358.46</td>\n      <td>1913.350112</td>\n      <td>1.000000</td>\n      <td>0.416667</td>\n      <td>0.916667</td>\n      <td>0.250000</td>\n      <td>4</td>\n      <td>43</td>\n      <td>11500.0</td>\n      <td>2972.248185</td>\n      <td>2849.235124</td>\n      <td>0.000000</td>\n      <td>12</td>\n    </tr>\n    <tr>\n      <th>C10888</th>\n      <td>2320.309453</td>\n      <td>1.000000</td>\n      <td>2896.05</td>\n      <td>2209.21</td>\n      <td>686.84</td>\n      <td>187.030671</td>\n      <td>1.000000</td>\n      <td>0.916667</td>\n      <td>0.916667</td>\n      <td>0.083333</td>\n      <td>1</td>\n      <td>90</td>\n      <td>13500.0</td>\n      <td>1341.195566</td>\n      <td>559.284909</td>\n      <td>0.000000</td>\n      <td>12</td>\n    </tr>\n  </tbody>\n</table>\n<p>3500 rows × 17 columns</p>\n</div>"
     },
     "execution_count": 7,
     "metadata": {},
     "output_type": "execute_result"
    }
   ],
   "execution_count": 7
  },
  {
   "metadata": {},
   "cell_type": "markdown",
   "source": [
    "## 5. Reservoir Sampling\n",
    "This method works by selecting a sample from the population without replacement, basically much like Simple Random Sampling, but this method is generally used for large datasets, where Simple Random Sampling becomes inefficient. This method is useful when the dataset is large and the size of the dataset is unknown (like in event streaming). However, it might not be very suitable when the dataset is small, as it might not be representative enough.\n",
    "\n",
    "This method might be somehow useful for this dataset, but might not be representative enough, same as the problem mentioned in 1. (Simple Random Sampling)\n",
    "\n",
    "Reference:\n",
    "https://medium.com/@choukibhanuprasad/reservoir-sampling-technique-71c9227d6743"
   ],
   "id": "18d25db88268c826"
  },
  {
   "metadata": {
    "ExecuteTime": {
     "end_time": "2024-08-15T15:00:25.952528Z",
     "start_time": "2024-08-15T15:00:25.554827Z"
    }
   },
   "cell_type": "code",
   "source": [
    "# Defining function for Reservoir sampling\n",
    "def reservoir_sampling(iterator, n):\n",
    "    reservoir = []\n",
    "    for i, row in enumerate(iterator):\n",
    "        if i < n:\n",
    "            reservoir.append(row)\n",
    "        else:\n",
    "            j = random.randint(0, i)\n",
    "            if j < n:\n",
    "                reservoir[j] = row\n",
    "    return reservoir\n",
    "\n",
    "# Reservoir sampling\n",
    "# row is a tuple of (INDEX, DATA)\n",
    "df_reservoir = pd.DataFrame([row[1] for row in reservoir_sampling(df_preprocessed.iterrows(), n)])\n",
    "\n",
    "# dtypes of some columns has changed, need to convert back\n",
    "columns_int64 = ['CASH_ADVANCE_TRX', 'PURCHASES_TRX', 'TENURE']\n",
    "df_reservoir[columns_int64] = df_reservoir[columns_int64].astype('int64')\n",
    "\n",
    "df_reservoir"
   ],
   "id": "2aa66c3830859a7d",
   "outputs": [
    {
     "data": {
      "text/plain": "            BALANCE  BALANCE_FREQUENCY  PURCHASES  ONEOFF_PURCHASES  \\\nC10001    40.900749           0.818182      95.40              0.00   \nC17838    25.407311           1.000000     504.96              0.00   \nC10003  2495.148862           1.000000     773.17            773.17   \nC13849    86.157142           1.000000     915.64              0.00   \nC16845    51.581189           1.000000     384.89            120.00   \n...             ...                ...        ...               ...   \nC14254  3907.641073           1.000000    2001.35            147.84   \nC18223  1256.819270           1.000000    1674.96              0.00   \nC17908    64.937308           0.636364     442.03            209.00   \nC13597  2280.447419           1.000000    1681.78           1219.00   \nC13598  2104.961701           0.727273    4115.95            230.50   \n\n        INSTALLMENTS_PURCHASES  CASH_ADVANCE  PURCHASES_FREQUENCY  \\\nC10001                   95.40      0.000000             0.166667   \nC17838                  504.96      0.000000             1.000000   \nC10003                    0.00      0.000000             1.000000   \nC13849                  915.64      0.000000             0.916667   \nC16845                  264.89      0.000000             0.666667   \n...                        ...           ...                  ...   \nC14254                 1853.51    466.607620             1.000000   \nC18223                 1674.96      0.000000             1.000000   \nC17908                  233.03      0.000000             0.583333   \nC13597                  462.78      0.000000             1.000000   \nC13598                 3885.45   9358.071183             0.833333   \n\n        ONEOFF_PURCHASES_FREQUENCY  PURCHASES_INSTALLMENTS_FREQUENCY  \\\nC10001                    0.000000                          0.083333   \nC17838                    0.000000                          1.000000   \nC10003                    1.000000                          0.000000   \nC13849                    0.000000                          0.833333   \nC16845                    0.083333                          0.583333   \n...                            ...                               ...   \nC14254                    0.083333                          1.000000   \nC18223                    0.000000                          1.000000   \nC17908                    0.083333                          0.500000   \nC13597                    0.250000                          0.916667   \nC13598                    0.166667                          0.666667   \n\n        CASH_ADVANCE_FREQUENCY  CASH_ADVANCE_TRX  PURCHASES_TRX  \\\nC10001                0.000000                 0              2   \nC17838                0.000000                 0             48   \nC10003                0.000000                 0             12   \nC13849                0.000000                 0             11   \nC16845                0.000000                 0             10   \n...                        ...               ...            ...   \nC14254                0.166667                 2            141   \nC18223                0.000000                 0             12   \nC17908                0.000000                 0              8   \nC13597                0.000000                 0             21   \nC13598                0.916667                20             59   \n\n        KNN_IMPUTED_CREDIT_LIMIT      PAYMENTS  KNN_IMPUTED_MINIMUM_PAYMENTS  \\\nC10001                    1000.0    201.802084                    139.509787   \nC17838                    3000.0    464.099225                    166.397650   \nC10003                    7500.0    622.066742                    627.284787   \nC13849                    9500.0    855.755398                    170.160443   \nC16845                    6000.0    213.515669                    156.429964   \n...                          ...           ...                           ...   \nC14254                    4000.0   2111.180988                   3216.413727   \nC18223                    1000.0    970.361646                   3449.118706   \nC17908                    1200.0    149.634213                    204.316917   \nC13597                    7500.0   1398.406343                    513.533438   \nC13598                    8000.0  15172.585350                    778.239214   \n\n        PRC_FULL_PAYMENT  TENURE  \nC10001          0.000000      12  \nC17838          0.916667      12  \nC10003          0.000000      12  \nC13849          0.727273      12  \nC16845          0.222222      12  \n...                  ...     ...  \nC14254          0.000000      12  \nC18223          0.000000      12  \nC17908          0.000000      12  \nC13597          0.000000      12  \nC13598          0.000000      12  \n\n[3500 rows x 17 columns]",
      "text/html": "<div>\n<style scoped>\n    .dataframe tbody tr th:only-of-type {\n        vertical-align: middle;\n    }\n\n    .dataframe tbody tr th {\n        vertical-align: top;\n    }\n\n    .dataframe thead th {\n        text-align: right;\n    }\n</style>\n<table border=\"1\" class=\"dataframe\">\n  <thead>\n    <tr style=\"text-align: right;\">\n      <th></th>\n      <th>BALANCE</th>\n      <th>BALANCE_FREQUENCY</th>\n      <th>PURCHASES</th>\n      <th>ONEOFF_PURCHASES</th>\n      <th>INSTALLMENTS_PURCHASES</th>\n      <th>CASH_ADVANCE</th>\n      <th>PURCHASES_FREQUENCY</th>\n      <th>ONEOFF_PURCHASES_FREQUENCY</th>\n      <th>PURCHASES_INSTALLMENTS_FREQUENCY</th>\n      <th>CASH_ADVANCE_FREQUENCY</th>\n      <th>CASH_ADVANCE_TRX</th>\n      <th>PURCHASES_TRX</th>\n      <th>KNN_IMPUTED_CREDIT_LIMIT</th>\n      <th>PAYMENTS</th>\n      <th>KNN_IMPUTED_MINIMUM_PAYMENTS</th>\n      <th>PRC_FULL_PAYMENT</th>\n      <th>TENURE</th>\n    </tr>\n  </thead>\n  <tbody>\n    <tr>\n      <th>C10001</th>\n      <td>40.900749</td>\n      <td>0.818182</td>\n      <td>95.40</td>\n      <td>0.00</td>\n      <td>95.40</td>\n      <td>0.000000</td>\n      <td>0.166667</td>\n      <td>0.000000</td>\n      <td>0.083333</td>\n      <td>0.000000</td>\n      <td>0</td>\n      <td>2</td>\n      <td>1000.0</td>\n      <td>201.802084</td>\n      <td>139.509787</td>\n      <td>0.000000</td>\n      <td>12</td>\n    </tr>\n    <tr>\n      <th>C17838</th>\n      <td>25.407311</td>\n      <td>1.000000</td>\n      <td>504.96</td>\n      <td>0.00</td>\n      <td>504.96</td>\n      <td>0.000000</td>\n      <td>1.000000</td>\n      <td>0.000000</td>\n      <td>1.000000</td>\n      <td>0.000000</td>\n      <td>0</td>\n      <td>48</td>\n      <td>3000.0</td>\n      <td>464.099225</td>\n      <td>166.397650</td>\n      <td>0.916667</td>\n      <td>12</td>\n    </tr>\n    <tr>\n      <th>C10003</th>\n      <td>2495.148862</td>\n      <td>1.000000</td>\n      <td>773.17</td>\n      <td>773.17</td>\n      <td>0.00</td>\n      <td>0.000000</td>\n      <td>1.000000</td>\n      <td>1.000000</td>\n      <td>0.000000</td>\n      <td>0.000000</td>\n      <td>0</td>\n      <td>12</td>\n      <td>7500.0</td>\n      <td>622.066742</td>\n      <td>627.284787</td>\n      <td>0.000000</td>\n      <td>12</td>\n    </tr>\n    <tr>\n      <th>C13849</th>\n      <td>86.157142</td>\n      <td>1.000000</td>\n      <td>915.64</td>\n      <td>0.00</td>\n      <td>915.64</td>\n      <td>0.000000</td>\n      <td>0.916667</td>\n      <td>0.000000</td>\n      <td>0.833333</td>\n      <td>0.000000</td>\n      <td>0</td>\n      <td>11</td>\n      <td>9500.0</td>\n      <td>855.755398</td>\n      <td>170.160443</td>\n      <td>0.727273</td>\n      <td>12</td>\n    </tr>\n    <tr>\n      <th>C16845</th>\n      <td>51.581189</td>\n      <td>1.000000</td>\n      <td>384.89</td>\n      <td>120.00</td>\n      <td>264.89</td>\n      <td>0.000000</td>\n      <td>0.666667</td>\n      <td>0.083333</td>\n      <td>0.583333</td>\n      <td>0.000000</td>\n      <td>0</td>\n      <td>10</td>\n      <td>6000.0</td>\n      <td>213.515669</td>\n      <td>156.429964</td>\n      <td>0.222222</td>\n      <td>12</td>\n    </tr>\n    <tr>\n      <th>...</th>\n      <td>...</td>\n      <td>...</td>\n      <td>...</td>\n      <td>...</td>\n      <td>...</td>\n      <td>...</td>\n      <td>...</td>\n      <td>...</td>\n      <td>...</td>\n      <td>...</td>\n      <td>...</td>\n      <td>...</td>\n      <td>...</td>\n      <td>...</td>\n      <td>...</td>\n      <td>...</td>\n      <td>...</td>\n    </tr>\n    <tr>\n      <th>C14254</th>\n      <td>3907.641073</td>\n      <td>1.000000</td>\n      <td>2001.35</td>\n      <td>147.84</td>\n      <td>1853.51</td>\n      <td>466.607620</td>\n      <td>1.000000</td>\n      <td>0.083333</td>\n      <td>1.000000</td>\n      <td>0.166667</td>\n      <td>2</td>\n      <td>141</td>\n      <td>4000.0</td>\n      <td>2111.180988</td>\n      <td>3216.413727</td>\n      <td>0.000000</td>\n      <td>12</td>\n    </tr>\n    <tr>\n      <th>C18223</th>\n      <td>1256.819270</td>\n      <td>1.000000</td>\n      <td>1674.96</td>\n      <td>0.00</td>\n      <td>1674.96</td>\n      <td>0.000000</td>\n      <td>1.000000</td>\n      <td>0.000000</td>\n      <td>1.000000</td>\n      <td>0.000000</td>\n      <td>0</td>\n      <td>12</td>\n      <td>1000.0</td>\n      <td>970.361646</td>\n      <td>3449.118706</td>\n      <td>0.000000</td>\n      <td>12</td>\n    </tr>\n    <tr>\n      <th>C17908</th>\n      <td>64.937308</td>\n      <td>0.636364</td>\n      <td>442.03</td>\n      <td>209.00</td>\n      <td>233.03</td>\n      <td>0.000000</td>\n      <td>0.583333</td>\n      <td>0.083333</td>\n      <td>0.500000</td>\n      <td>0.000000</td>\n      <td>0</td>\n      <td>8</td>\n      <td>1200.0</td>\n      <td>149.634213</td>\n      <td>204.316917</td>\n      <td>0.000000</td>\n      <td>12</td>\n    </tr>\n    <tr>\n      <th>C13597</th>\n      <td>2280.447419</td>\n      <td>1.000000</td>\n      <td>1681.78</td>\n      <td>1219.00</td>\n      <td>462.78</td>\n      <td>0.000000</td>\n      <td>1.000000</td>\n      <td>0.250000</td>\n      <td>0.916667</td>\n      <td>0.000000</td>\n      <td>0</td>\n      <td>21</td>\n      <td>7500.0</td>\n      <td>1398.406343</td>\n      <td>513.533438</td>\n      <td>0.000000</td>\n      <td>12</td>\n    </tr>\n    <tr>\n      <th>C13598</th>\n      <td>2104.961701</td>\n      <td>0.727273</td>\n      <td>4115.95</td>\n      <td>230.50</td>\n      <td>3885.45</td>\n      <td>9358.071183</td>\n      <td>0.833333</td>\n      <td>0.166667</td>\n      <td>0.666667</td>\n      <td>0.916667</td>\n      <td>20</td>\n      <td>59</td>\n      <td>8000.0</td>\n      <td>15172.585350</td>\n      <td>778.239214</td>\n      <td>0.000000</td>\n      <td>12</td>\n    </tr>\n  </tbody>\n</table>\n<p>3500 rows × 17 columns</p>\n</div>"
     },
     "execution_count": 8,
     "metadata": {},
     "output_type": "execute_result"
    }
   ],
   "execution_count": 8
  },
  {
   "cell_type": "markdown",
   "source": [
    "# Evaluation of Sampling Methods using Kolmogorov-Smirnov Test\n",
    "\n",
    "The Kolmogorov-Smirnov test is used to compare the distribution of the original dataset and the sampled dataset. The null hypothesis is that the two distributions are the same. If the p-value is less than the significance level (0.05), then the null hypothesis is rejected, meaning that the two distributions are different, and we can conclude that the sample drawn using the sampling method is not representative of the original dataset.\n",
    "\n",
    "\\begin{align*}\n",
    "H_{0} : P = P_{0},  H_{1} : P \\neq P_{0}.\n",
    "\\end{align*}\n",
    "\n",
    "Reference: https://www.statology.org/kolmogorov-smirnov-test-python/\n"
   ],
   "metadata": {
    "collapsed": false
   },
   "id": "74c27e728ce3e9d4"
  },
  {
   "cell_type": "code",
   "outputs": [
    {
     "name": "stdout",
     "output_type": "stream",
     "text": [
      "Number of columns not rejected \n",
      "\n",
      "Simple Random Sampling: 17/17\n",
      "Systematic Sampling: 7/17\n",
      "Reservoir Sampling: 17/17\n"
     ]
    }
   ],
   "source": [
    "from scipy.stats import ks_2samp\n",
    "\n",
    "sampling_methods = {\n",
    "    'Simple Random Sampling': df_srs,\n",
    "    'Systematic Sampling': df_systematic,\n",
    "    'Reservoir Sampling': df_reservoir\n",
    "}\n",
    "\n",
    "non_rejected_count = {}\n",
    "\n",
    "for method, df in sampling_methods.items():\n",
    "    count = 0\n",
    "    \n",
    "    for column in df_preprocessed.columns:\n",
    "        ks_statistic, p_value = ks_2samp(df_preprocessed[column], df[column])\n",
    "        if p_value > 0.05:\n",
    "            count += 1\n",
    "    \n",
    "    non_rejected_count[method] = count\n",
    "\n",
    "print(\"Number of columns not rejected \\n\")\n",
    "for method, count in non_rejected_count.items():\n",
    "    print(f\"{method}: {count}/{len(df_preprocessed.columns)}\")"
   ],
   "metadata": {
    "collapsed": false,
    "ExecuteTime": {
     "end_time": "2024-08-15T15:13:26.668826Z",
     "start_time": "2024-08-15T15:13:26.130089Z"
    }
   },
   "id": "128f09e11d046124",
   "execution_count": 28
  },
  {
   "cell_type": "markdown",
   "source": [
    "**Conclusion:**\n",
    "The number of columns not rejected for the Kolmogorov-Smirnov test is highest for Simple Random Sampling and Reservoir Sampling, followed by Systematic Sampling. However, Simple Random Sampling is more preferrable, please refer to justification made above. Hence, Simple Random Sampling is employed to sample the dataset."
   ],
   "metadata": {
    "collapsed": false
   },
   "id": "6f6e8c91f87049ea"
  },
  {
   "metadata": {},
   "cell_type": "markdown",
   "source": [
    "# Saving the Sampled Dataset\n",
    "The sampled dataset in saved into a new csv file for future use"
   ],
   "id": "4c69173c19925ad2"
  },
  {
   "metadata": {
    "ExecuteTime": {
     "end_time": "2024-08-04T12:12:49.447968Z",
     "start_time": "2024-08-04T12:12:49.416132Z"
    }
   },
   "cell_type": "code",
   "source": [
    "df_srs.to_csv(r'../raw_data/customer_sampled_srs_preprocessed_knn_n3.csv')"
   ],
   "id": "4114fabbb71e9e3a",
   "outputs": [],
   "execution_count": 8
  }
 ],
 "metadata": {
  "kernelspec": {
   "display_name": "Python 3",
   "language": "python",
   "name": "python3"
  },
  "language_info": {
   "codemirror_mode": {
    "name": "ipython",
    "version": 2
   },
   "file_extension": ".py",
   "mimetype": "text/x-python",
   "name": "python",
   "nbconvert_exporter": "python",
   "pygments_lexer": "ipython2",
   "version": "2.7.6"
  }
 },
 "nbformat": 4,
 "nbformat_minor": 5
}
