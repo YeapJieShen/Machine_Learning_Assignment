{
 "cells": [
  {
   "metadata": {},
   "cell_type": "markdown",
   "source": [
    "# Feature Engineering and Selection\n",
    "# Checking the Python Environment\n",
    "\n",
    "This is to ensure that the correct Python environment is set up correctly and used"
   ],
   "id": "b15dd9b0e4ba78ad"
  },
  {
   "cell_type": "code",
   "id": "initial_id",
   "metadata": {
    "collapsed": true,
    "ExecuteTime": {
     "end_time": "2024-08-22T14:34:06.507771Z",
     "start_time": "2024-08-22T14:34:06.490391Z"
    }
   },
   "source": [
    "import sys\n",
    "import IPython\n",
    "\n",
    "# Change path to append here\n",
    "sys.path.append(r'C:\\Users\\hp\\Downloads\\Machine Learning Assignment')\n",
    "\n",
    "print(\"Python executable:\", sys.executable)\n",
    "print(\"Python version:\", sys.version)\n",
    "print(\"Kernel:\", IPython.get_ipython().kernel)\n",
    "print(\"Sys paths:\", sys.path)"
   ],
   "outputs": [
    {
     "name": "stdout",
     "output_type": "stream",
     "text": [
      "Python executable: C:\\Users\\hp\\Downloads\\Machine Learning Assignment\\ml-venv\\Scripts\\python.exe\n",
      "Python version: 3.11.5 | packaged by Anaconda, Inc. | (main, Sep 11 2023, 13:26:23) [MSC v.1916 64 bit (AMD64)]\n",
      "Kernel: <ipykernel.ipkernel.IPythonKernel object at 0x00000271ED28F790>\n",
      "Sys paths: ['C:\\\\Users\\\\hp\\\\Downloads\\\\Machine Learning Assignment', 'C:\\\\Users\\\\hp\\\\anaconda3\\\\python311.zip', 'C:\\\\Users\\\\hp\\\\anaconda3\\\\DLLs', 'C:\\\\Users\\\\hp\\\\anaconda3\\\\Lib', 'C:\\\\Users\\\\hp\\\\anaconda3', 'C:\\\\Users\\\\hp\\\\Downloads\\\\Machine Learning Assignment\\\\ml-venv', '', 'C:\\\\Users\\\\hp\\\\Downloads\\\\Machine Learning Assignment\\\\ml-venv\\\\Lib\\\\site-packages', 'C:\\\\Users\\\\hp\\\\Downloads\\\\Machine Learning Assignment\\\\ml-venv\\\\Lib\\\\site-packages\\\\win32', 'C:\\\\Users\\\\hp\\\\Downloads\\\\Machine Learning Assignment\\\\ml-venv\\\\Lib\\\\site-packages\\\\win32\\\\lib', 'C:\\\\Users\\\\hp\\\\Downloads\\\\Machine Learning Assignment\\\\ml-venv\\\\Lib\\\\site-packages\\\\Pythonwin', 'C:\\\\Users\\\\hp\\\\Downloads\\\\Machine Learning Assignment']\n"
     ]
    }
   ],
   "execution_count": 1
  },
  {
   "metadata": {},
   "cell_type": "markdown",
   "source": [
    "# Importing Libraries\n",
    "\n",
    "This is to ensure that the necessary libraries are imported and used"
   ],
   "id": "215bed1fe597fdc9"
  },
  {
   "metadata": {
    "ExecuteTime": {
     "end_time": "2024-08-22T14:34:06.528778Z",
     "start_time": "2024-08-22T14:34:06.510233Z"
    }
   },
   "cell_type": "code",
   "source": [
    "# For DataFrame\n",
    "import pandas as pd\n",
    "import numpy as np\n",
    "\n",
    "# For plotting\n",
    "import matplotlib.pyplot as plt\n",
    "import seaborn as sns\n",
    "\n",
    "# For serialisation and de-serialisation\n",
    "import pickle"
   ],
   "id": "2905640950ad6a34",
   "outputs": [],
   "execution_count": 2
  },
  {
   "metadata": {},
   "cell_type": "markdown",
   "source": [
    "# Loading the Dataset\n",
    "\n",
    "Following shows the raw dataset that is loaded into the notebook"
   ],
   "id": "9b8e107f3da10eb9"
  },
  {
   "metadata": {
    "ExecuteTime": {
     "end_time": "2024-08-22T14:34:06.665318Z",
     "start_time": "2024-08-22T14:34:06.529699Z"
    }
   },
   "cell_type": "code",
   "source": "df = pd.read_csv(r'../raw_data/standard_scaled_customer.csv', index_col = 'CUST_ID')",
   "id": "994d8b6ad490ffa",
   "outputs": [],
   "execution_count": 3
  },
  {
   "metadata": {},
   "cell_type": "markdown",
   "source": "# Feature Engineering and Selection",
   "id": "8ff0cc095b1f0a2a"
  },
  {
   "metadata": {
    "ExecuteTime": {
     "end_time": "2024-08-22T14:34:07.348925Z",
     "start_time": "2024-08-22T14:34:06.665318Z"
    }
   },
   "cell_type": "code",
   "source": [
    "from sklearn.decomposition import PCA\n",
    "\n",
    "pca = PCA()\n",
    "pca_features_data = pca.fit_transform(df)\n",
    "\n",
    "df_pca = pd.DataFrame(pca_features_data, index = df.index, columns = [f'PC{i+1}' for i in range(pca_features_data.shape[1])])\n",
    "df_pca"
   ],
   "id": "dd369fcc706b3cd",
   "outputs": [
    {
     "data": {
      "text/plain": [
       "              PC1       PC2       PC3       PC4       PC5       PC6       PC7  \\\n",
       "CUST_ID                                                                         \n",
       "C10001  -1.124773 -2.447575  0.495158 -1.142428 -0.043463  0.193297  0.507759   \n",
       "C10002   3.054062  0.191950 -0.075694  0.320844  1.679767  0.463606 -0.729784   \n",
       "C10003  -0.542332  1.591993 -2.716551 -1.560662 -0.597392  0.144857 -0.587275   \n",
       "C10004   1.115735 -1.198867 -1.498596 -1.078874 -0.316711 -1.422283 -0.141599   \n",
       "C10005  -0.041998 -1.365690 -0.638746 -1.806113 -0.160600  1.005409 -0.050614   \n",
       "...           ...       ...       ...       ...       ...       ...       ...   \n",
       "C19186  -2.345057 -2.373459  1.664282  2.011455 -2.725707  1.137621 -1.970087   \n",
       "C19187  -1.703645 -2.083915  1.887767  0.846821 -3.245506  0.140943 -1.956470   \n",
       "C19188  -1.939407 -2.911304  1.352148  1.383573 -3.034354  0.238890 -1.910977   \n",
       "C19189   0.671052 -4.330310  0.117021  1.865204 -3.180694  1.098443 -0.975435   \n",
       "C19190   0.441516 -1.355705 -1.849225  2.124913 -4.526228 -0.513256 -0.292943   \n",
       "\n",
       "              PC8       PC9      PC10      PC11      PC12      PC13      PC14  \\\n",
       "CUST_ID                                                                         \n",
       "C10001   0.178910 -0.337747  0.221300 -0.400575  0.764085 -0.425417 -0.033360   \n",
       "C10002   0.377664 -0.022563 -0.464262 -0.007089 -0.103571  0.078075 -0.073304   \n",
       "C10003  -0.682945  0.200562 -0.357353 -1.176819 -0.111540  0.248188  0.104006   \n",
       "C10004  -1.777052  1.439418 -0.139363  1.276327 -0.028568  0.629408 -0.163353   \n",
       "C10005   0.531433 -0.538733  0.402529  0.010251 -0.008407  0.328014  0.009110   \n",
       "...           ...       ...       ...       ...       ...       ...       ...   \n",
       "C19186   0.320730 -0.938102 -0.104127  0.052253 -0.106350 -0.033741 -0.105248   \n",
       "C19187   0.701655 -0.922128 -0.047445 -0.262663 -0.325245 -0.874301 -0.353063   \n",
       "C19188   0.304637 -0.412864 -0.072593 -0.147063 -0.081533 -0.264375 -0.075873   \n",
       "C19189   0.186296 -0.444693 -0.256500  0.008825  0.006349 -0.363795 -0.114829   \n",
       "C19190  -0.026839  0.223349 -0.070196 -0.395712 -0.147719  0.077309  0.873525   \n",
       "\n",
       "             PC15  \n",
       "CUST_ID            \n",
       "C10001  -0.037909  \n",
       "C10002  -0.099503  \n",
       "C10003   0.035739  \n",
       "C10004  -0.236400  \n",
       "C10005  -0.000473  \n",
       "...           ...  \n",
       "C19186   0.084199  \n",
       "C19187   0.060173  \n",
       "C19188   0.069454  \n",
       "C19189   0.344429  \n",
       "C19190  -0.017530  \n",
       "\n",
       "[8950 rows x 15 columns]"
      ],
      "text/html": [
       "<div>\n",
       "<style scoped>\n",
       "    .dataframe tbody tr th:only-of-type {\n",
       "        vertical-align: middle;\n",
       "    }\n",
       "\n",
       "    .dataframe tbody tr th {\n",
       "        vertical-align: top;\n",
       "    }\n",
       "\n",
       "    .dataframe thead th {\n",
       "        text-align: right;\n",
       "    }\n",
       "</style>\n",
       "<table border=\"1\" class=\"dataframe\">\n",
       "  <thead>\n",
       "    <tr style=\"text-align: right;\">\n",
       "      <th></th>\n",
       "      <th>PC1</th>\n",
       "      <th>PC2</th>\n",
       "      <th>PC3</th>\n",
       "      <th>PC4</th>\n",
       "      <th>PC5</th>\n",
       "      <th>PC6</th>\n",
       "      <th>PC7</th>\n",
       "      <th>PC8</th>\n",
       "      <th>PC9</th>\n",
       "      <th>PC10</th>\n",
       "      <th>PC11</th>\n",
       "      <th>PC12</th>\n",
       "      <th>PC13</th>\n",
       "      <th>PC14</th>\n",
       "      <th>PC15</th>\n",
       "    </tr>\n",
       "    <tr>\n",
       "      <th>CUST_ID</th>\n",
       "      <th></th>\n",
       "      <th></th>\n",
       "      <th></th>\n",
       "      <th></th>\n",
       "      <th></th>\n",
       "      <th></th>\n",
       "      <th></th>\n",
       "      <th></th>\n",
       "      <th></th>\n",
       "      <th></th>\n",
       "      <th></th>\n",
       "      <th></th>\n",
       "      <th></th>\n",
       "      <th></th>\n",
       "      <th></th>\n",
       "    </tr>\n",
       "  </thead>\n",
       "  <tbody>\n",
       "    <tr>\n",
       "      <th>C10001</th>\n",
       "      <td>-1.124773</td>\n",
       "      <td>-2.447575</td>\n",
       "      <td>0.495158</td>\n",
       "      <td>-1.142428</td>\n",
       "      <td>-0.043463</td>\n",
       "      <td>0.193297</td>\n",
       "      <td>0.507759</td>\n",
       "      <td>0.178910</td>\n",
       "      <td>-0.337747</td>\n",
       "      <td>0.221300</td>\n",
       "      <td>-0.400575</td>\n",
       "      <td>0.764085</td>\n",
       "      <td>-0.425417</td>\n",
       "      <td>-0.033360</td>\n",
       "      <td>-0.037909</td>\n",
       "    </tr>\n",
       "    <tr>\n",
       "      <th>C10002</th>\n",
       "      <td>3.054062</td>\n",
       "      <td>0.191950</td>\n",
       "      <td>-0.075694</td>\n",
       "      <td>0.320844</td>\n",
       "      <td>1.679767</td>\n",
       "      <td>0.463606</td>\n",
       "      <td>-0.729784</td>\n",
       "      <td>0.377664</td>\n",
       "      <td>-0.022563</td>\n",
       "      <td>-0.464262</td>\n",
       "      <td>-0.007089</td>\n",
       "      <td>-0.103571</td>\n",
       "      <td>0.078075</td>\n",
       "      <td>-0.073304</td>\n",
       "      <td>-0.099503</td>\n",
       "    </tr>\n",
       "    <tr>\n",
       "      <th>C10003</th>\n",
       "      <td>-0.542332</td>\n",
       "      <td>1.591993</td>\n",
       "      <td>-2.716551</td>\n",
       "      <td>-1.560662</td>\n",
       "      <td>-0.597392</td>\n",
       "      <td>0.144857</td>\n",
       "      <td>-0.587275</td>\n",
       "      <td>-0.682945</td>\n",
       "      <td>0.200562</td>\n",
       "      <td>-0.357353</td>\n",
       "      <td>-1.176819</td>\n",
       "      <td>-0.111540</td>\n",
       "      <td>0.248188</td>\n",
       "      <td>0.104006</td>\n",
       "      <td>0.035739</td>\n",
       "    </tr>\n",
       "    <tr>\n",
       "      <th>C10004</th>\n",
       "      <td>1.115735</td>\n",
       "      <td>-1.198867</td>\n",
       "      <td>-1.498596</td>\n",
       "      <td>-1.078874</td>\n",
       "      <td>-0.316711</td>\n",
       "      <td>-1.422283</td>\n",
       "      <td>-0.141599</td>\n",
       "      <td>-1.777052</td>\n",
       "      <td>1.439418</td>\n",
       "      <td>-0.139363</td>\n",
       "      <td>1.276327</td>\n",
       "      <td>-0.028568</td>\n",
       "      <td>0.629408</td>\n",
       "      <td>-0.163353</td>\n",
       "      <td>-0.236400</td>\n",
       "    </tr>\n",
       "    <tr>\n",
       "      <th>C10005</th>\n",
       "      <td>-0.041998</td>\n",
       "      <td>-1.365690</td>\n",
       "      <td>-0.638746</td>\n",
       "      <td>-1.806113</td>\n",
       "      <td>-0.160600</td>\n",
       "      <td>1.005409</td>\n",
       "      <td>-0.050614</td>\n",
       "      <td>0.531433</td>\n",
       "      <td>-0.538733</td>\n",
       "      <td>0.402529</td>\n",
       "      <td>0.010251</td>\n",
       "      <td>-0.008407</td>\n",
       "      <td>0.328014</td>\n",
       "      <td>0.009110</td>\n",
       "      <td>-0.000473</td>\n",
       "    </tr>\n",
       "    <tr>\n",
       "      <th>...</th>\n",
       "      <td>...</td>\n",
       "      <td>...</td>\n",
       "      <td>...</td>\n",
       "      <td>...</td>\n",
       "      <td>...</td>\n",
       "      <td>...</td>\n",
       "      <td>...</td>\n",
       "      <td>...</td>\n",
       "      <td>...</td>\n",
       "      <td>...</td>\n",
       "      <td>...</td>\n",
       "      <td>...</td>\n",
       "      <td>...</td>\n",
       "      <td>...</td>\n",
       "      <td>...</td>\n",
       "    </tr>\n",
       "    <tr>\n",
       "      <th>C19186</th>\n",
       "      <td>-2.345057</td>\n",
       "      <td>-2.373459</td>\n",
       "      <td>1.664282</td>\n",
       "      <td>2.011455</td>\n",
       "      <td>-2.725707</td>\n",
       "      <td>1.137621</td>\n",
       "      <td>-1.970087</td>\n",
       "      <td>0.320730</td>\n",
       "      <td>-0.938102</td>\n",
       "      <td>-0.104127</td>\n",
       "      <td>0.052253</td>\n",
       "      <td>-0.106350</td>\n",
       "      <td>-0.033741</td>\n",
       "      <td>-0.105248</td>\n",
       "      <td>0.084199</td>\n",
       "    </tr>\n",
       "    <tr>\n",
       "      <th>C19187</th>\n",
       "      <td>-1.703645</td>\n",
       "      <td>-2.083915</td>\n",
       "      <td>1.887767</td>\n",
       "      <td>0.846821</td>\n",
       "      <td>-3.245506</td>\n",
       "      <td>0.140943</td>\n",
       "      <td>-1.956470</td>\n",
       "      <td>0.701655</td>\n",
       "      <td>-0.922128</td>\n",
       "      <td>-0.047445</td>\n",
       "      <td>-0.262663</td>\n",
       "      <td>-0.325245</td>\n",
       "      <td>-0.874301</td>\n",
       "      <td>-0.353063</td>\n",
       "      <td>0.060173</td>\n",
       "    </tr>\n",
       "    <tr>\n",
       "      <th>C19188</th>\n",
       "      <td>-1.939407</td>\n",
       "      <td>-2.911304</td>\n",
       "      <td>1.352148</td>\n",
       "      <td>1.383573</td>\n",
       "      <td>-3.034354</td>\n",
       "      <td>0.238890</td>\n",
       "      <td>-1.910977</td>\n",
       "      <td>0.304637</td>\n",
       "      <td>-0.412864</td>\n",
       "      <td>-0.072593</td>\n",
       "      <td>-0.147063</td>\n",
       "      <td>-0.081533</td>\n",
       "      <td>-0.264375</td>\n",
       "      <td>-0.075873</td>\n",
       "      <td>0.069454</td>\n",
       "    </tr>\n",
       "    <tr>\n",
       "      <th>C19189</th>\n",
       "      <td>0.671052</td>\n",
       "      <td>-4.330310</td>\n",
       "      <td>0.117021</td>\n",
       "      <td>1.865204</td>\n",
       "      <td>-3.180694</td>\n",
       "      <td>1.098443</td>\n",
       "      <td>-0.975435</td>\n",
       "      <td>0.186296</td>\n",
       "      <td>-0.444693</td>\n",
       "      <td>-0.256500</td>\n",
       "      <td>0.008825</td>\n",
       "      <td>0.006349</td>\n",
       "      <td>-0.363795</td>\n",
       "      <td>-0.114829</td>\n",
       "      <td>0.344429</td>\n",
       "    </tr>\n",
       "    <tr>\n",
       "      <th>C19190</th>\n",
       "      <td>0.441516</td>\n",
       "      <td>-1.355705</td>\n",
       "      <td>-1.849225</td>\n",
       "      <td>2.124913</td>\n",
       "      <td>-4.526228</td>\n",
       "      <td>-0.513256</td>\n",
       "      <td>-0.292943</td>\n",
       "      <td>-0.026839</td>\n",
       "      <td>0.223349</td>\n",
       "      <td>-0.070196</td>\n",
       "      <td>-0.395712</td>\n",
       "      <td>-0.147719</td>\n",
       "      <td>0.077309</td>\n",
       "      <td>0.873525</td>\n",
       "      <td>-0.017530</td>\n",
       "    </tr>\n",
       "  </tbody>\n",
       "</table>\n",
       "<p>8950 rows × 15 columns</p>\n",
       "</div>"
      ]
     },
     "execution_count": 4,
     "metadata": {},
     "output_type": "execute_result"
    }
   ],
   "execution_count": 4
  },
  {
   "metadata": {
    "ExecuteTime": {
     "end_time": "2024-08-22T14:34:07.947774Z",
     "start_time": "2024-08-22T14:34:07.348925Z"
    }
   },
   "cell_type": "code",
   "source": [
    "plt.plot(range(1, len(pca.explained_variance_ratio_) + 1),\n",
    "         np.cumsum(pca.explained_variance_ratio_))\n",
    "plt.xlabel('Number of Components')\n",
    "plt.ylabel('Cumulative Explained Variance')\n",
    "plt.title('Explained Variance vs. Number of Components')\n",
    "plt.show()"
   ],
   "id": "a3bbfb61790feaf4",
   "outputs": [
    {
     "data": {
      "text/plain": [
       "<Figure size 640x480 with 1 Axes>"
      ],
      "image/png": "[encoded data removed]"
     },
     "metadata": {},
     "output_type": "display_data"
    }
   ],
   "execution_count": 5
  },
  {
   "metadata": {
    "ExecuteTime": {
     "end_time": "2024-08-22T14:34:08.588332Z",
     "start_time": "2024-08-22T14:34:07.949958Z"
    }
   },
   "cell_type": "code",
   "source": [
    "plt.plot(range(1, len(pca.explained_variance_ratio_) + 1),\n",
    "         pca.explained_variance_ratio_, marker='o')\n",
    "plt.xlabel('Number of Components')\n",
    "plt.ylabel('Explained Variance')\n",
    "plt.title('Scree Plot')\n",
    "plt.show()"
   ],
   "id": "be853c622be38b4d",
   "outputs": [
    {
     "data": {
      "text/plain": [
       "<Figure size 640x480 with 1 Axes>"
      ],
      "image/png": "[encoded data removed]"
     },
     "metadata": {},
     "output_type": "display_data"
    }
   ],
   "execution_count": 6
  },
  {
   "metadata": {},
   "cell_type": "markdown",
   "source": [
    "It can be seen that most variance are explain by the first 5 components. Therefore, we will use the first 5 components for the model for experimental purposes\n",
    "\n",
    "# Saving the Dataset"
   ],
   "id": "e2317f66f6686e0e"
  },
  {
   "metadata": {
    "ExecuteTime": {
     "end_time": "2024-08-22T14:34:35.596493Z",
     "start_time": "2024-08-22T14:34:35.402367Z"
    }
   },
   "cell_type": "code",
   "source": [
    "df_pca = df_pca.iloc[:, :5]\n",
    "df_pca.to_csv(r'../raw_data/customer_pca_5_.csv')"
   ],
   "id": "501de4bf0634383f",
   "outputs": [],
   "execution_count": 8
  }
 ],
 "metadata": {
  "kernelspec": {
   "display_name": "Python 3",
   "language": "python",
   "name": "python3"
  },
  "language_info": {
   "codemirror_mode": {
    "name": "ipython",
    "version": 2
   },
   "file_extension": ".py",
   "mimetype": "text/x-python",
   "name": "python",
   "nbconvert_exporter": "python",
   "pygments_lexer": "ipython2",
   "version": "2.7.6"
  }
 },
 "nbformat": 4,
 "nbformat_minor": 5
}
